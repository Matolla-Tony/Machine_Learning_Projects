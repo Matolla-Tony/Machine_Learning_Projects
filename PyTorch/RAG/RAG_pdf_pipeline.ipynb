{
 "cells": [
  {
   "cell_type": "markdown",
   "metadata": {},
   "source": [
    "# Local RAG pipeline\n"
   ]
  },
  {
   "cell_type": "markdown",
   "metadata": {},
   "source": [
    "## 0. Intro\n"
   ]
  },
  {
   "cell_type": "markdown",
   "metadata": {},
   "source": [
    "### What is RAG?\n",
    "\n",
    "- Retrieval - Find relevant info given a query\n",
    "- Augmented - Take relevant info and augment our input (prompt) to an LLM with that relevant info\n",
    "- Generation - Take the first two steps and pass them to an LLM for generative outputs\n"
   ]
  },
  {
   "cell_type": "markdown",
   "metadata": {},
   "source": [
    "### Why RAG?\n",
    "\n",
    "Improve generation outputs of LLMS\n",
    "\n",
    "1. Prevents hallucinations - good looking text that is not necessarily factual\n",
    "2. Work with custom data not internet-scale data\n"
   ]
  },
  {
   "cell_type": "markdown",
   "metadata": {},
   "source": [
    "### What can RAG be used for?\n",
    "\n",
    "1. Customer support Q&A chat\n",
    "2. Email chain analysis\n",
    "3. Company internal documentation chat\n",
    "4. Textbook Q&A\n"
   ]
  },
  {
   "cell_type": "markdown",
   "metadata": {},
   "source": [
    "### Why local?\n",
    "\n",
    "1. Privacy - private documentation that you don't want to send to an API\n",
    "2. Speed - no need to send data across the internet\n",
    "3. Cost - No cost if using own hardware\n"
   ]
  },
  {
   "cell_type": "markdown",
   "metadata": {},
   "source": [
    "### To do list\n",
    "\n",
    "- Build a RAG pipeline which enables us to chat with a PDF document, specifically an open-source nutrition textbook, ~1200 pages long.\n",
    "\n",
    "- Write the code to:\n",
    "\n",
    "1. Open a PDF document (you could use almost any PDF here).\n",
    "2. Format the text of the PDF textbook ready for an embedding model (this process is known as text splitting/chunking).\n",
    "3. Embed all of the chunks of text in the textbook and turn them into numerical representation which we can store for later.\n",
    "4. Build a retrieval system that uses vector search to find relevant chunks of text based on a query.\n",
    "5. Create a prompt that incorporates the retrieved pieces of text.\n",
    "6. Generate an answer to a query based on passages from the textbook.\n"
   ]
  },
  {
   "cell_type": "markdown",
   "metadata": {},
   "source": [
    "## 1. Document/text pre processing\n"
   ]
  },
  {
   "cell_type": "markdown",
   "metadata": {},
   "source": [
    "### Import and open PDF\n"
   ]
  },
  {
   "cell_type": "code",
   "execution_count": 19,
   "metadata": {},
   "outputs": [
    {
     "name": "stdout",
     "output_type": "stream",
     "text": [
      "[INFO] File data/human-nutrition-text.pdf exists\n"
     ]
    }
   ],
   "source": [
    "# Import PDF\n",
    "\n",
    "import os\n",
    "import requests\n",
    "\n",
    "# Get pdf document path\n",
    "pdf_path = \"data/human-nutrition-text.pdf\"\n",
    "\n",
    "# Download PDF\n",
    "if not os.path.exists(pdf_path):\n",
    "    print(f\"[INFO] file doesn't exist, downloading...\")\n",
    "\n",
    "    # Enter the URL of the pdf\n",
    "    url = \"https://pressbooks.oer.hawaii.edu/humannutrition/open/download?type=pdf\"\n",
    "\n",
    "    # The local file name to save downloaded file\n",
    "    filename = pdf_path\n",
    "\n",
    "    # Send a GET request to the URL\n",
    "    response = requests.get(url)\n",
    "\n",
    "    # Check if the request was successful\n",
    "    if response.status_code == 200:\n",
    "        # Open the file and save it\n",
    "        with open(filename, \"wb\") as file:\n",
    "            file.write(response.content)\n",
    "        print(f\"[INFO] The file has been downloaded and saved as{filename}\")\n",
    "    else:\n",
    "        print(f\"[INFO] Failed to download the file. Status code : {response.status_code}\")\n",
    "\n",
    "else:\n",
    "    print(f\"[INFO] File {pdf_path} exists\")"
   ]
  },
  {
   "cell_type": "code",
   "execution_count": 20,
   "metadata": {},
   "outputs": [
    {
     "data": {
      "application/vnd.jupyter.widget-view+json": {
       "model_id": "36862500704c4a58b6d314a6e7934f74",
       "version_major": 2,
       "version_minor": 0
      },
      "text/plain": [
       "0it [00:00, ?it/s]"
      ]
     },
     "metadata": {},
     "output_type": "display_data"
    },
    {
     "data": {
      "text/plain": [
       "[{'page_number': -17,\n",
       "  'page_char_count': 15,\n",
       "  'page_word_count': 2,\n",
       "  'page_sentence_count_raw': 1,\n",
       "  'page_token_count': 3.75,\n",
       "  'text': 'Human Nutrition'},\n",
       " {'page_number': -16,\n",
       "  'page_char_count': 0,\n",
       "  'page_word_count': 1,\n",
       "  'page_sentence_count_raw': 1,\n",
       "  'page_token_count': 0.0,\n",
       "  'text': ''}]"
      ]
     },
     "execution_count": 20,
     "metadata": {},
     "output_type": "execute_result"
    }
   ],
   "source": [
    "# Open PDF\n",
    "import fitz\n",
    "from tqdm.auto import tqdm\n",
    "\n",
    "def text_formatter(text: str) -> str:\n",
    "    \"\"\"Performs minor formatting on text\"\"\"\n",
    "    cleaned_text = text.replace(\"\\n\", \" \").strip()\n",
    "\n",
    "    # More text formatting functions can go in here\n",
    "    return cleaned_text\n",
    "\n",
    "def open_and_read_pdf(pdf_path: str) -> list[dict]:\n",
    "    doc = fitz.open(pdf_path)\n",
    "    pages_and_texts = []\n",
    "    for page_number, page in tqdm(enumerate(doc)):\n",
    "        text= page.get_text()\n",
    "        text = text_formatter(text=text)\n",
    "        pages_and_texts.append({\"page_number\": page_number - 17,\n",
    "                                \"page_char_count\": len(text),\n",
    "                                \"page_word_count\": len(text.split(\" \")),\n",
    "                                \"page_sentence_count_raw\": len(text.split(\". \")),\n",
    "                                \"page_token_count\": len(text) / 4,\n",
    "                                \"text\": text})\n",
    "    return pages_and_texts\n",
    "\n",
    "pages_and_texts = open_and_read_pdf(pdf_path=pdf_path)\n",
    "pages_and_texts[:2]"
   ]
  },
  {
   "cell_type": "code",
   "execution_count": 21,
   "metadata": {},
   "outputs": [
    {
     "data": {
      "text/plain": [
       "[{'page_number': 16,\n",
       "  'page_char_count': 1773,\n",
       "  'page_word_count': 211,\n",
       "  'page_sentence_count_raw': 48,\n",
       "  'page_token_count': 443.25,\n",
       "  'text': '1. Lacto-ovo vegetarian. This is the most common form. This type of vegetarian diet includes the animal foods eggs and dairy products. 2. Lacto-vegetarian. This type of vegetarian diet includes dairy products but not eggs. 3. Ovo-vegetarian. This type of vegetarian diet includes eggs but not dairy products. 4. Vegan. This type of vegetarian diet does not include dairy, eggs, or any type of animal product or animal by-product. Lifestyles and Nutrition by University of Hawai‘i at Mānoa Food Science and Human Nutrition Program is licensed under a Creative Commons Attribution-NonCommercial-ShareAlike 4.0 International License, except where otherwise noted. Notes 1. https://health.gov/paguidelines/ 2. http://www.csep.ca/english/view.asp?x=804 3. Centers for Disease Control and Prevention (CDC). “Smoking and Tobacco Use.” http://www.cdc.gov/tobacco/data_statistics/ fact_sheets/health_effects/tobacco_related_mortality/Index.htm. Updated December 1, 2016. Accessed September 20, 2017. 4. Centers for Disease Control and Prevention. “Alcohol and Drug Use.” http://www.cdc.gov/healthyyouth/alcoholdrug/. Updated June 7, 2012. Accessed September 20, 2017. 5. U.S. Department of Health and Human Services and U.S. Department of Agriculture. 2015 – 2020 Dietary Guidelines for Americans. 8th Edition. http://health.gov/dietaryguidelines/2015/guidelines/. Published December 2015. Accessed September 2017. 6. National Institute on Drug Abuse. Health Consequences of Drug Misuse. https://www.drugabuse.gov/related-topics/health- consequences-drug-misuse. Updated March, 2017. Accessed September 20, 2017. 7. National Sleep Foundation. Sleep Disorders. https://sleepfoundation.org/sleep-disorders-problems. Updated 2017. Accessed September 2017. Lifestyles and Nutrition | 16'},\n",
       " {'page_number': 125,\n",
       "  'page_char_count': 3162,\n",
       "  'page_word_count': 473,\n",
       "  'page_sentence_count_raw': 28,\n",
       "  'page_token_count': 790.5,\n",
       "  'text': 'Consequences of Deficiency or Excess As with all nutrients, having too much or too little water has health consequences. Excessive water intake can dilute the levels of critical electrolytes in the blood. Water intoxication is rare, however when it does happen, it can be deadly. On the other hand, having too little water in the body is common. In fact, diarrhea-induced dehydration is the number-one cause of early-childhood death worldwide. In this section we will discuss subtle changes in electrolytes that compromise health on a chronic basis. HIGH-HYDRATION STATUS: WATER INTOXICATION/HYPONATREMIA Water intoxication mainly affects athletes who overhydrate. Water intoxication is extremely rare, primarily because healthy kidneys are capable of excreting up to one liter of excess water per hour. Overhydration was unfortunately demonstrated in 2007 by Jennifer Strange, who drank six liters of water in three hours while competing in a “Hold Your Wee for a Wii” radio contest. Afterward she complained of a headache, vomited, and died. LOW-HYDRATION STATUS: DEHYDRATION Dehydration refers to water loss from the body without adequate replacement. It can result from either water loss or electrolyte imbalance, or, most commonly, both. Dehydration can be caused by prolonged physical activity without adequate water intake, heat exposure, excessive weight loss, vomiting, diarrhea, blood loss, infectious diseases, malnutrition, electrolyte imbalances, and very high glucose levels. Physiologically, dehydration decreases blood volume. The water in cells moves into the blood to compensate for the low blood-volume, and cells shrink. Signs and symptoms of dehydration include thirst, dizziness, fainting, headaches, low blood-pressure, fatigue, low to no urine output, and, in extreme cases, loss of consciousness and death. Signs and symptoms are usually noticeable after about 2 percent of total body water is lost. Chronic dehydration is linked to higher incidences of some diseases. There is strong evidence that low-hydration status increases the risk for kidney stones and exercise-induced asthma. There is also some scientific evidence that chronic dehydration increases the risk for kidney disease, heart disease, and the development of hyperglycemia in people with diabetes. Older people often suffer from chronic dehydration as their thirst mechanism is no longer as sensitive as it used to be. HEAT STROKE Heat stroke is a life-threatening condition that occurs when the body temperature is greater than 105.1°F (40.6°C). It is the result of the body being unable to sufficiently cool itself by thermoregulatory mechanisms. Dehydration is a primary cause of heat stroke as there are not enough fluids in the body to maintain adequate sweat production, and cooling of the body is impaired. Signs and symptoms are dry skin (absence of sweating), dizziness, trouble breathing, rapid pulse, confusion, agitation, seizures, coma, and possibly death. Dehydration may be preceded by heat exhaustion, which is characterized by heavy sweating, rapid breathing, and fast pulse. The elderly, infants, and athletes are the most at risk for heat stroke. 125'},\n",
       " {'page_number': 305,\n",
       "  'page_char_count': 3056,\n",
       "  'page_word_count': 484,\n",
       "  'page_sentence_count_raw': 11,\n",
       "  'page_token_count': 764.0,\n",
       "  'text': 'The National Weight Control Registry (NWCR) tracks over ten thousand people who have been successful in losing at least 30 pounds and maintaining this weight loss for at least one year. Their research findings are that 98 percent of participants in the registry modified their food intake and 94 percent increased their physical activity (mainly walking).3 Although there are a great variety of approaches taken by NWCR members to achieve successful weight loss, most report that their approach involved adhering to a low-calorie, low-fat diet and doing high levels of activity (about one hour of exercise per day). Moreover, most members eat breakfast every day, watch fewer than ten hours of television per week, and weigh themselves at least once per week. About half of them lost weight on their own, and the other half used some type of weight-loss program. In most scientific studies successful weight loss is accomplished only by changing the diet and by increasing physical activity. Doing one without the other limits the amount of weight lost and the length of time that weight loss is sustained. On an individual level it is quite possible to achieve successful weight loss, as over ten thousand Americans can attest. Moreover, losing as little as 10 percent of your body weight can significantly improve health and reduce disease risk.4 You do not have to be overweight or obese to reap benefits from eating a healthier diet and increasing physical activity as both provide numerous benefits beyond weight loss and maintenance. EVIDENCE-BASED DIETARY RECOMMENDATIONS The 2015 Dietary Guidelines for Americans offers specific, evidence-based recommendations for dietary changes aimed at keeping calorie intake in balance with physical activity, which is key for weight management. These recommendations include: Follow a healthy eating pattern that accounts for all foods and beverages within an appropriate calorie level that includes: • A variety of vegetables from all of the subgroups—dark green, red and orange, legumes (beans and peas), starchy, and other • Fruits, especially whole fruits • Grains, at least half of which are whole grains • Fat-free or low-fat dairy, including milk, yogurt, cheese, and/or fortified soy beverages • A variety of protein foods, including seafood, lean meats and poultry, eggs, legumes (beans and peas), and nuts, seeds, and soy products • Oils A healthy eating pattern limits: • Saturated fats and trans fats • Added sugars • Sodium Key quantitative recommendations are provided for several components of the diet that should be limited. These components are of particular public health concern in the United States, and the specified limits can help individuals achieve healthy eating patterns within calorie limits5: • Consume less than 10 percent of calories per day from added sugars • Consume less than 10 percent of calories per day from saturated fats • Consume less than 2,300 milligrams (mg) per day of sodium 305 | Dietary, Behavioral, and Physical Activity Recommendations for Weight Management'}]"
      ]
     },
     "execution_count": 21,
     "metadata": {},
     "output_type": "execute_result"
    }
   ],
   "source": [
    "import random\n",
    "\n",
    "random.sample(pages_and_texts, k=3)"
   ]
  },
  {
   "cell_type": "code",
   "execution_count": 22,
   "metadata": {},
   "outputs": [
    {
     "data": {
      "text/html": [
       "<div>\n",
       "<style scoped>\n",
       "    .dataframe tbody tr th:only-of-type {\n",
       "        vertical-align: middle;\n",
       "    }\n",
       "\n",
       "    .dataframe tbody tr th {\n",
       "        vertical-align: top;\n",
       "    }\n",
       "\n",
       "    .dataframe thead th {\n",
       "        text-align: right;\n",
       "    }\n",
       "</style>\n",
       "<table border=\"1\" class=\"dataframe\">\n",
       "  <thead>\n",
       "    <tr style=\"text-align: right;\">\n",
       "      <th></th>\n",
       "      <th>page_number</th>\n",
       "      <th>page_char_count</th>\n",
       "      <th>page_word_count</th>\n",
       "      <th>page_sentence_count_raw</th>\n",
       "      <th>page_token_count</th>\n",
       "      <th>text</th>\n",
       "    </tr>\n",
       "  </thead>\n",
       "  <tbody>\n",
       "    <tr>\n",
       "      <th>0</th>\n",
       "      <td>-17</td>\n",
       "      <td>15</td>\n",
       "      <td>2</td>\n",
       "      <td>1</td>\n",
       "      <td>3.75</td>\n",
       "      <td>Human Nutrition</td>\n",
       "    </tr>\n",
       "    <tr>\n",
       "      <th>1</th>\n",
       "      <td>-16</td>\n",
       "      <td>0</td>\n",
       "      <td>1</td>\n",
       "      <td>1</td>\n",
       "      <td>0.00</td>\n",
       "      <td></td>\n",
       "    </tr>\n",
       "    <tr>\n",
       "      <th>2</th>\n",
       "      <td>-15</td>\n",
       "      <td>188</td>\n",
       "      <td>26</td>\n",
       "      <td>1</td>\n",
       "      <td>47.00</td>\n",
       "      <td>Human Nutrition UNIVERSITY OF HAWAI‘I AT MĀNOA...</td>\n",
       "    </tr>\n",
       "    <tr>\n",
       "      <th>3</th>\n",
       "      <td>-14</td>\n",
       "      <td>607</td>\n",
       "      <td>100</td>\n",
       "      <td>5</td>\n",
       "      <td>151.75</td>\n",
       "      <td>Human Nutrition by University of Hawai‘i at Mā...</td>\n",
       "    </tr>\n",
       "    <tr>\n",
       "      <th>4</th>\n",
       "      <td>-13</td>\n",
       "      <td>827</td>\n",
       "      <td>130</td>\n",
       "      <td>4</td>\n",
       "      <td>206.75</td>\n",
       "      <td>Contents Preface xi About the Contributors xii...</td>\n",
       "    </tr>\n",
       "  </tbody>\n",
       "</table>\n",
       "</div>"
      ],
      "text/plain": [
       "   page_number  page_char_count  page_word_count  page_sentence_count_raw  \\\n",
       "0          -17               15                2                        1   \n",
       "1          -16                0                1                        1   \n",
       "2          -15              188               26                        1   \n",
       "3          -14              607              100                        5   \n",
       "4          -13              827              130                        4   \n",
       "\n",
       "   page_token_count                                               text  \n",
       "0              3.75                                    Human Nutrition  \n",
       "1              0.00                                                     \n",
       "2             47.00  Human Nutrition UNIVERSITY OF HAWAI‘I AT MĀNOA...  \n",
       "3            151.75  Human Nutrition by University of Hawai‘i at Mā...  \n",
       "4            206.75  Contents Preface xi About the Contributors xii...  "
      ]
     },
     "execution_count": 22,
     "metadata": {},
     "output_type": "execute_result"
    }
   ],
   "source": [
    "import pandas as pd\n",
    "\n",
    "df = pd.DataFrame(pages_and_texts)\n",
    "df.head()"
   ]
  },
  {
   "cell_type": "code",
   "execution_count": 23,
   "metadata": {},
   "outputs": [
    {
     "data": {
      "text/html": [
       "<div>\n",
       "<style scoped>\n",
       "    .dataframe tbody tr th:only-of-type {\n",
       "        vertical-align: middle;\n",
       "    }\n",
       "\n",
       "    .dataframe tbody tr th {\n",
       "        vertical-align: top;\n",
       "    }\n",
       "\n",
       "    .dataframe thead th {\n",
       "        text-align: right;\n",
       "    }\n",
       "</style>\n",
       "<table border=\"1\" class=\"dataframe\">\n",
       "  <thead>\n",
       "    <tr style=\"text-align: right;\">\n",
       "      <th></th>\n",
       "      <th>page_number</th>\n",
       "      <th>page_char_count</th>\n",
       "      <th>page_word_count</th>\n",
       "      <th>page_sentence_count_raw</th>\n",
       "      <th>page_token_count</th>\n",
       "    </tr>\n",
       "  </thead>\n",
       "  <tbody>\n",
       "    <tr>\n",
       "      <th>count</th>\n",
       "      <td>667.00</td>\n",
       "      <td>667.00</td>\n",
       "      <td>667.00</td>\n",
       "      <td>667.00</td>\n",
       "      <td>667.00</td>\n",
       "    </tr>\n",
       "    <tr>\n",
       "      <th>mean</th>\n",
       "      <td>316.00</td>\n",
       "      <td>1756.98</td>\n",
       "      <td>270.41</td>\n",
       "      <td>16.31</td>\n",
       "      <td>439.25</td>\n",
       "    </tr>\n",
       "    <tr>\n",
       "      <th>std</th>\n",
       "      <td>192.69</td>\n",
       "      <td>1211.29</td>\n",
       "      <td>188.06</td>\n",
       "      <td>13.79</td>\n",
       "      <td>302.82</td>\n",
       "    </tr>\n",
       "    <tr>\n",
       "      <th>min</th>\n",
       "      <td>-17.00</td>\n",
       "      <td>0.00</td>\n",
       "      <td>1.00</td>\n",
       "      <td>1.00</td>\n",
       "      <td>0.00</td>\n",
       "    </tr>\n",
       "    <tr>\n",
       "      <th>25%</th>\n",
       "      <td>149.50</td>\n",
       "      <td>774.50</td>\n",
       "      <td>112.50</td>\n",
       "      <td>6.00</td>\n",
       "      <td>193.62</td>\n",
       "    </tr>\n",
       "    <tr>\n",
       "      <th>50%</th>\n",
       "      <td>316.00</td>\n",
       "      <td>1584.00</td>\n",
       "      <td>249.00</td>\n",
       "      <td>14.00</td>\n",
       "      <td>396.00</td>\n",
       "    </tr>\n",
       "    <tr>\n",
       "      <th>75%</th>\n",
       "      <td>482.50</td>\n",
       "      <td>2750.50</td>\n",
       "      <td>424.50</td>\n",
       "      <td>23.00</td>\n",
       "      <td>687.62</td>\n",
       "    </tr>\n",
       "    <tr>\n",
       "      <th>max</th>\n",
       "      <td>649.00</td>\n",
       "      <td>4555.00</td>\n",
       "      <td>757.00</td>\n",
       "      <td>99.00</td>\n",
       "      <td>1138.75</td>\n",
       "    </tr>\n",
       "  </tbody>\n",
       "</table>\n",
       "</div>"
      ],
      "text/plain": [
       "       page_number  page_char_count  page_word_count  page_sentence_count_raw  \\\n",
       "count       667.00           667.00           667.00                   667.00   \n",
       "mean        316.00          1756.98           270.41                    16.31   \n",
       "std         192.69          1211.29           188.06                    13.79   \n",
       "min         -17.00             0.00             1.00                     1.00   \n",
       "25%         149.50           774.50           112.50                     6.00   \n",
       "50%         316.00          1584.00           249.00                    14.00   \n",
       "75%         482.50          2750.50           424.50                    23.00   \n",
       "max         649.00          4555.00           757.00                    99.00   \n",
       "\n",
       "       page_token_count  \n",
       "count            667.00  \n",
       "mean             439.25  \n",
       "std              302.82  \n",
       "min                0.00  \n",
       "25%              193.62  \n",
       "50%              396.00  \n",
       "75%              687.62  \n",
       "max             1138.75  "
      ]
     },
     "execution_count": 23,
     "metadata": {},
     "output_type": "execute_result"
    }
   ],
   "source": [
    "df.describe().round(2)"
   ]
  },
  {
   "cell_type": "markdown",
   "metadata": {},
   "source": [
    "### Why we care about token count?\n",
    "\n",
    "1. Embedding models don't deal with infinite tokens\n",
    "\n",
    "- In this case sentence-transformers/all-mpnet-base-v2 embedding model was used\n",
    "- It was trained to embed sequences of 384 tokens into numerical space\n",
    "\n",
    "2. LLMs don't deal with infinite tokens\n"
   ]
  },
  {
   "cell_type": "markdown",
   "metadata": {},
   "source": [
    "### Further text processing (splitting pages into sentences)\n",
    "\n",
    "- split at \". \" or use NLP libraries like spaCy and nltk.\n"
   ]
  },
  {
   "cell_type": "code",
   "execution_count": 24,
   "metadata": {},
   "outputs": [
    {
     "data": {
      "text/plain": [
       "[This is a sentence., This is another sentence.]"
      ]
     },
     "execution_count": 24,
     "metadata": {},
     "output_type": "execute_result"
    }
   ],
   "source": [
    "from spacy.lang.en import English\n",
    "\n",
    "nlp = English()\n",
    "\n",
    "# Add a sentencizer pipeline\n",
    "nlp.add_pipe(\"sentencizer\")\n",
    "\n",
    "# Create document instance as an example\n",
    "doc = nlp(\"This is a sentence. This is another sentence.\")\n",
    "assert len(list(doc.sents)) == 2\n",
    "\n",
    "# Print out our sentences split\n",
    "list(doc.sents)"
   ]
  },
  {
   "cell_type": "code",
   "execution_count": 25,
   "metadata": {},
   "outputs": [
    {
     "data": {
      "text/plain": [
       "{'page_number': 483,\n",
       " 'page_char_count': 3794,\n",
       " 'page_word_count': 655,\n",
       " 'page_sentence_count_raw': 33,\n",
       " 'page_token_count': 948.5,\n",
       " 'text': 'ENERGY AND MACRONUTRIENTS Energy needs relative to size are much greater in an infant than an adult. A baby’s resting metabolic rate is two times that of an adult. The RDA to meet energy needs changes as an infant matures and puts on more weight. The IOM uses a set of equations to calculate the total energy expenditure and resulting energy needs. For example, the equation for the first three months of life is (89 x weight [kg] −100) + 175 kcal. Based on these equations, the estimated energy requirement for infants from zero to six months of age is 472 to 645 kilocalories per day for boys and 438 to 593 kilocalories per day for girls. For infants ages six to twelve months, the estimated requirement is 645 to 844 kilocalories per day for boys and 593 to 768 kilocalories per day for girls. From the age one to age two, the estimated requirement rises to 844–1,050 kilocalories per day for boys and 768–997 kilocalories per day for girls.5 How often an infant wants to eat will also change over time due to growth spurts, which typically occur at about two weeks and six weeks of age, and again at about three months and six months of age. The dietary recommendations for infants are based on the nutritional content of human breast milk. Carbohydrates make up about 45 to 65 percent of the caloric content in breast milk, which amounts to a RDA of about 130 grams. Almost all of the carbohydrate in human milk is lactose, which infants digest and tolerate well. In fact, lactose intolerance is practically nonexistent in infants. Protein makes up about 5 to 20 percent of the caloric content of breast milk, which amounts to 13 grams per day. Infants have a high need for protein to support growth and development, though excess protein (which is only a concern with bottle-feeding) can cause dehydration, diarrhea, fever, and acidosis in premature infants. About 30 to 40 percent of the caloric content in breast milk is made up of fat. A high-fat diet is necessary to encourage the development of neural pathways in the brain and other parts of the body. However, saturated fats and trans fatty acids inhibit this growth. Infants who are over the age of six months, which means they are no longer exclusively breastfed, should not consume foods that are high in these types of fats. MICRONUTRIENTS Almost all of the nutrients that infants require can be met if they consume an adequate amount of breast milk. There are a few exceptions, though. Human milk is low in vitamin D, which is needed for calcium absorption and building bone, among other things. Therefore, breastfed children often need to take a vitamin D supplement in the form of drops. Infants at the highest risk for vitamin D deficiency are those with darker skin and no exposure to sunlight. Breast milk is also low in vitamin K, which is required for blood clotting, and deficits could lead to bleeding or hemorrhagic disease. Babies are born with limited vitamin K, so supplementation may be needed initially and some states require a vitamin K injection after birth. Also, breast milk is not high in iron, but the iron in breast milk is well absorbed by infants. After four to six months, however, an infant needs an additional source of iron other than breast milk. FLUIDS Infants have a high need for fluids, 1.5 milliliters per kilocalorie consumed compared to 1.0 milliliters per kilocalorie consumed for adults. This is because children have larger body surface area per unit of body weight and a reduced capacity for perspiration. Therefore, they are at greater risk of dehydration. However, parents or other caregivers can meet an infant’s fluid needs with breast milk or formula. As solids are introduced, parents must make sure that young children continue to drink fluids throughout the day. 483 | Infancy'}"
      ]
     },
     "execution_count": 25,
     "metadata": {},
     "output_type": "execute_result"
    }
   ],
   "source": [
    "pages_and_texts[500]"
   ]
  },
  {
   "cell_type": "code",
   "execution_count": 26,
   "metadata": {},
   "outputs": [
    {
     "data": {
      "application/vnd.jupyter.widget-view+json": {
       "model_id": "d7fe4abc6b074c8fb423c8fa99931f28",
       "version_major": 2,
       "version_minor": 0
      },
      "text/plain": [
       "  0%|          | 0/667 [00:00<?, ?it/s]"
      ]
     },
     "metadata": {},
     "output_type": "display_data"
    }
   ],
   "source": [
    "for item in tqdm(pages_and_texts):\n",
    "    item[\"sentences\"] = list(nlp(item[\"text\"]).sents)\n",
    "\n",
    "    # Make sure sentences are strings (default type is spaCy datatype)\n",
    "    item[\"sentences\"] = [str(sentence) for sentence in item[\"sentences\"]]\n",
    "\n",
    "    # Count the sentences\n",
    "    item[\"page_sentence_count_spacy\"] = len(item[\"sentences\"])"
   ]
  },
  {
   "cell_type": "code",
   "execution_count": 27,
   "metadata": {},
   "outputs": [
    {
     "data": {
      "text/plain": [
       "[{'page_number': 241,\n",
       "  'page_char_count': 1232,\n",
       "  'page_word_count': 192,\n",
       "  'page_sentence_count_raw': 10,\n",
       "  'page_token_count': 308.0,\n",
       "  'text': 'charged molecules, such as protons (H+), calcium, potassium, and magnesium which are also circulating in the blood. Albumin acts as a buffer against abrupt changes in the concentrations of these molecules, thereby balancing blood pH and maintaining the status quo. The protein hemoglobin also participates in acid-base balance by binding and releasing protons. TRANSPORT Albumin and hemoglobin also play a role in molecular transport. Albumin chemically binds to hormones, fatty acids, some vitamins, essential minerals, and drugs, and transports them throughout the circulatory system. Each red blood cell contains millions of hemoglobin molecules that bind oxygen in the lungs and transport it to all the tissues in the body. A cell’s plasma membrane is usually not permeable to large polar molecules, so to get the required nutrients and molecules into the cell many transport proteins exist in the cell membrane. Some of these proteins are channels that allow particular molecules to move in and out of cells. Others act as one-way taxis and require energy to function. PROTECTION Figure 6.12 Antibody Proteins Abagovomab (monoclonal antibody) by Blake C / CC BY-SA 3.0 Figure 6.13 Antigens 241 | Protein’s Functions in the Body',\n",
       "  'sentences': ['charged molecules, such as protons (H+), calcium, potassium, and magnesium which are also circulating in the blood.',\n",
       "   'Albumin acts as a buffer against abrupt changes in the concentrations of these molecules, thereby balancing blood pH and maintaining the status quo.',\n",
       "   'The protein hemoglobin also participates in acid-base balance by binding and releasing protons.',\n",
       "   'TRANSPORT Albumin and hemoglobin also play a role in molecular transport.',\n",
       "   'Albumin chemically binds to hormones, fatty acids, some vitamins, essential minerals, and drugs, and transports them throughout the circulatory system.',\n",
       "   'Each red blood cell contains millions of hemoglobin molecules that bind oxygen in the lungs and transport it to all the tissues in the body.',\n",
       "   'A cell’s plasma membrane is usually not permeable to large polar molecules, so to get the required nutrients and molecules into the cell many transport proteins exist in the cell membrane.',\n",
       "   'Some of these proteins are channels that allow particular molecules to move in and out of cells.',\n",
       "   'Others act as one-way taxis and require energy to function.',\n",
       "   'PROTECTION Figure 6.12 Antibody Proteins Abagovomab (monoclonal antibody) by Blake C / CC BY-SA 3.0 Figure 6.13 Antigens 241 | Protein’s Functions in the Body'],\n",
       "  'page_sentence_count_spacy': 10}]"
      ]
     },
     "execution_count": 27,
     "metadata": {},
     "output_type": "execute_result"
    }
   ],
   "source": [
    "random.sample(pages_and_texts, k=1)\n",
    "# Has been split into sentences"
   ]
  },
  {
   "cell_type": "code",
   "execution_count": 28,
   "metadata": {},
   "outputs": [
    {
     "data": {
      "text/html": [
       "<div>\n",
       "<style scoped>\n",
       "    .dataframe tbody tr th:only-of-type {\n",
       "        vertical-align: middle;\n",
       "    }\n",
       "\n",
       "    .dataframe tbody tr th {\n",
       "        vertical-align: top;\n",
       "    }\n",
       "\n",
       "    .dataframe thead th {\n",
       "        text-align: right;\n",
       "    }\n",
       "</style>\n",
       "<table border=\"1\" class=\"dataframe\">\n",
       "  <thead>\n",
       "    <tr style=\"text-align: right;\">\n",
       "      <th></th>\n",
       "      <th>page_number</th>\n",
       "      <th>page_char_count</th>\n",
       "      <th>page_word_count</th>\n",
       "      <th>page_sentence_count_raw</th>\n",
       "      <th>page_token_count</th>\n",
       "      <th>page_sentence_count_spacy</th>\n",
       "    </tr>\n",
       "  </thead>\n",
       "  <tbody>\n",
       "    <tr>\n",
       "      <th>count</th>\n",
       "      <td>667.00</td>\n",
       "      <td>667.00</td>\n",
       "      <td>667.00</td>\n",
       "      <td>667.00</td>\n",
       "      <td>667.00</td>\n",
       "      <td>667.00</td>\n",
       "    </tr>\n",
       "    <tr>\n",
       "      <th>mean</th>\n",
       "      <td>316.00</td>\n",
       "      <td>1756.98</td>\n",
       "      <td>270.41</td>\n",
       "      <td>16.31</td>\n",
       "      <td>439.25</td>\n",
       "      <td>16.21</td>\n",
       "    </tr>\n",
       "    <tr>\n",
       "      <th>std</th>\n",
       "      <td>192.69</td>\n",
       "      <td>1211.29</td>\n",
       "      <td>188.06</td>\n",
       "      <td>13.79</td>\n",
       "      <td>302.82</td>\n",
       "      <td>13.64</td>\n",
       "    </tr>\n",
       "    <tr>\n",
       "      <th>min</th>\n",
       "      <td>-17.00</td>\n",
       "      <td>0.00</td>\n",
       "      <td>1.00</td>\n",
       "      <td>1.00</td>\n",
       "      <td>0.00</td>\n",
       "      <td>0.00</td>\n",
       "    </tr>\n",
       "    <tr>\n",
       "      <th>25%</th>\n",
       "      <td>149.50</td>\n",
       "      <td>774.50</td>\n",
       "      <td>112.50</td>\n",
       "      <td>6.00</td>\n",
       "      <td>193.62</td>\n",
       "      <td>6.00</td>\n",
       "    </tr>\n",
       "    <tr>\n",
       "      <th>50%</th>\n",
       "      <td>316.00</td>\n",
       "      <td>1584.00</td>\n",
       "      <td>249.00</td>\n",
       "      <td>14.00</td>\n",
       "      <td>396.00</td>\n",
       "      <td>14.00</td>\n",
       "    </tr>\n",
       "    <tr>\n",
       "      <th>75%</th>\n",
       "      <td>482.50</td>\n",
       "      <td>2750.50</td>\n",
       "      <td>424.50</td>\n",
       "      <td>23.00</td>\n",
       "      <td>687.62</td>\n",
       "      <td>23.00</td>\n",
       "    </tr>\n",
       "    <tr>\n",
       "      <th>max</th>\n",
       "      <td>649.00</td>\n",
       "      <td>4555.00</td>\n",
       "      <td>757.00</td>\n",
       "      <td>99.00</td>\n",
       "      <td>1138.75</td>\n",
       "      <td>101.00</td>\n",
       "    </tr>\n",
       "  </tbody>\n",
       "</table>\n",
       "</div>"
      ],
      "text/plain": [
       "       page_number  page_char_count  page_word_count  page_sentence_count_raw  \\\n",
       "count       667.00           667.00           667.00                   667.00   \n",
       "mean        316.00          1756.98           270.41                    16.31   \n",
       "std         192.69          1211.29           188.06                    13.79   \n",
       "min         -17.00             0.00             1.00                     1.00   \n",
       "25%         149.50           774.50           112.50                     6.00   \n",
       "50%         316.00          1584.00           249.00                    14.00   \n",
       "75%         482.50          2750.50           424.50                    23.00   \n",
       "max         649.00          4555.00           757.00                    99.00   \n",
       "\n",
       "       page_token_count  page_sentence_count_spacy  \n",
       "count            667.00                     667.00  \n",
       "mean             439.25                      16.21  \n",
       "std              302.82                      13.64  \n",
       "min                0.00                       0.00  \n",
       "25%              193.62                       6.00  \n",
       "50%              396.00                      14.00  \n",
       "75%              687.62                      23.00  \n",
       "max             1138.75                     101.00  "
      ]
     },
     "execution_count": 28,
     "metadata": {},
     "output_type": "execute_result"
    }
   ],
   "source": [
    "df = pd.DataFrame(pages_and_texts)\n",
    "df.describe().round(2) "
   ]
  },
  {
   "cell_type": "markdown",
   "metadata": {},
   "source": [
    "### Splitting and chunking sentences together in groups of 10\n",
    "\n",
    "- Makes text easier to filter and inspect\n",
    "- For our text chunks to fit into our embedding model context window\n"
   ]
  },
  {
   "cell_type": "code",
   "execution_count": 29,
   "metadata": {},
   "outputs": [
    {
     "data": {
      "text/plain": [
       "[[0, 1, 2, 3, 4, 5, 6, 7, 8, 9],\n",
       " [10, 11, 12, 13, 14, 15, 16, 17, 18, 19],\n",
       " [20, 21, 22, 23, 24]]"
      ]
     },
     "execution_count": 29,
     "metadata": {},
     "output_type": "execute_result"
    }
   ],
   "source": [
    "# Define split size\n",
    "num_sentence_chunk_size = 10\n",
    "\n",
    "# Create function to split list of text recursively into chunk size\n",
    "# 20 -> 10, 10\n",
    "# 25 -> 10, 10, 5\n",
    "def split_list(input_list: list,\n",
    "               split_size: int = num_sentence_chunk_size) -> list[list[str]]:\n",
    "    return [input_list[i:i+split_size] for i in range(0, len(input_list), split_size)]\n",
    "\n",
    "test_list = list(range(25))\n",
    "split_list(test_list)"
   ]
  },
  {
   "cell_type": "code",
   "execution_count": 30,
   "metadata": {},
   "outputs": [
    {
     "data": {
      "application/vnd.jupyter.widget-view+json": {
       "model_id": "5efe51fd37fa409584f297c7c976da0a",
       "version_major": 2,
       "version_minor": 0
      },
      "text/plain": [
       "  0%|          | 0/667 [00:00<?, ?it/s]"
      ]
     },
     "metadata": {},
     "output_type": "display_data"
    },
    {
     "data": {
      "text/plain": [
       "[{'page_number': 533,\n",
       "  'page_char_count': 1309,\n",
       "  'page_word_count': 160,\n",
       "  'page_sentence_count_raw': 39,\n",
       "  'page_token_count': 327.25,\n",
       "  'text': 'Middle Age by University of Hawai‘i at Mānoa Food Science and Human Nutrition Program is licensed under a Creative Commons Attribution- NonCommercial-ShareAlike 4.0 International License, except where otherwise noted. Notes 1. Polan EU, Taylor DR. Journey Across the Life Span: Human Development and Health Promotion. Philadelphia: F. A. Davis Company; 2003, 192–93. 2. Polan EU, Taylor DR. Journey Across the Life Span: Human Development and Health Promotion. Philadelphia: F. A. Davis Company; 2003, 212–213. 3. Drewnowski A, Darmon, N. Food Choices and Diet Cost: an Economic Analysis. The Journal of Nutrition. 2005; 135(4), 900-904. http://jn.nutrition.org/content/135/4/900.full. Accessed December 12, 2017. 4. Voutilainen S, Nurmi T, Mursu J, Rissanen, TH. Carotenoids and Cardiovascular Health. Am J Clin Nutr. 2006; 83, 1265–71. http://www.ajcn.org/content/83/6/1265.full.pdf. Accessed December 9, 2017. 5. Lycopene. American Cancer Society. http://www.cancer.org/Treatment/TreatmentsandSideEffects/ ComplementaryandAlternativeMedicine/DietandNutrition/lycopene. Updated May 13, 2010. Accessed November 29, 2017. 6. Eating Right During Menopause.Academy of Nutrition and Dietetics. http://www.eatright.org/Public/content.aspx?id=6809. Updated January 2015. Accessed December 4, 2017. 533 | Middle Age',\n",
       "  'sentences': ['Middle Age by University of Hawai‘i at Mānoa Food Science and Human Nutrition Program is licensed under a Creative Commons Attribution- NonCommercial-ShareAlike 4.0 International License, except where otherwise noted.',\n",
       "   'Notes 1.',\n",
       "   'Polan EU, Taylor DR.',\n",
       "   'Journey Across the Life Span: Human Development and Health Promotion.',\n",
       "   'Philadelphia: F. A. Davis Company; 2003, 192–93.',\n",
       "   '2.',\n",
       "   'Polan EU, Taylor DR.',\n",
       "   'Journey Across the Life Span: Human Development and Health Promotion.',\n",
       "   'Philadelphia: F. A. Davis Company; 2003, 212–213.',\n",
       "   '3.',\n",
       "   'Drewnowski A, Darmon, N. Food Choices and Diet Cost: an Economic Analysis.',\n",
       "   'The Journal of Nutrition.',\n",
       "   '2005; 135(4), 900-904.',\n",
       "   'http://jn.nutrition.org/content/135/4/900.full.',\n",
       "   'Accessed December 12, 2017.',\n",
       "   '4.',\n",
       "   'Voutilainen S, Nurmi T, Mursu J, Rissanen, TH.',\n",
       "   'Carotenoids and Cardiovascular Health.',\n",
       "   'Am J Clin Nutr.',\n",
       "   '2006; 83, 1265–71.',\n",
       "   'http://www.ajcn.org/content/83/6/1265.full.pdf.',\n",
       "   'Accessed December 9, 2017.',\n",
       "   '5.',\n",
       "   'Lycopene.',\n",
       "   'American Cancer Society.',\n",
       "   'http://www.cancer.org/Treatment/TreatmentsandSideEffects/ ComplementaryandAlternativeMedicine/DietandNutrition/lycopene.',\n",
       "   'Updated May 13, 2010.',\n",
       "   'Accessed November 29, 2017.',\n",
       "   '6.',\n",
       "   'Eating Right During Menopause.',\n",
       "   'Academy of Nutrition and Dietetics.',\n",
       "   'http://www.eatright.org/Public/content.aspx?id=6809.',\n",
       "   'Updated January 2015.',\n",
       "   'Accessed December 4, 2017.',\n",
       "   '533 | Middle Age'],\n",
       "  'page_sentence_count_spacy': 35,\n",
       "  'sentence_chunks': [['Middle Age by University of Hawai‘i at Mānoa Food Science and Human Nutrition Program is licensed under a Creative Commons Attribution- NonCommercial-ShareAlike 4.0 International License, except where otherwise noted.',\n",
       "    'Notes 1.',\n",
       "    'Polan EU, Taylor DR.',\n",
       "    'Journey Across the Life Span: Human Development and Health Promotion.',\n",
       "    'Philadelphia: F. A. Davis Company; 2003, 192–93.',\n",
       "    '2.',\n",
       "    'Polan EU, Taylor DR.',\n",
       "    'Journey Across the Life Span: Human Development and Health Promotion.',\n",
       "    'Philadelphia: F. A. Davis Company; 2003, 212–213.',\n",
       "    '3.'],\n",
       "   ['Drewnowski A, Darmon, N. Food Choices and Diet Cost: an Economic Analysis.',\n",
       "    'The Journal of Nutrition.',\n",
       "    '2005; 135(4), 900-904.',\n",
       "    'http://jn.nutrition.org/content/135/4/900.full.',\n",
       "    'Accessed December 12, 2017.',\n",
       "    '4.',\n",
       "    'Voutilainen S, Nurmi T, Mursu J, Rissanen, TH.',\n",
       "    'Carotenoids and Cardiovascular Health.',\n",
       "    'Am J Clin Nutr.',\n",
       "    '2006; 83, 1265–71.'],\n",
       "   ['http://www.ajcn.org/content/83/6/1265.full.pdf.',\n",
       "    'Accessed December 9, 2017.',\n",
       "    '5.',\n",
       "    'Lycopene.',\n",
       "    'American Cancer Society.',\n",
       "    'http://www.cancer.org/Treatment/TreatmentsandSideEffects/ ComplementaryandAlternativeMedicine/DietandNutrition/lycopene.',\n",
       "    'Updated May 13, 2010.',\n",
       "    'Accessed November 29, 2017.',\n",
       "    '6.',\n",
       "    'Eating Right During Menopause.'],\n",
       "   ['Academy of Nutrition and Dietetics.',\n",
       "    'http://www.eatright.org/Public/content.aspx?id=6809.',\n",
       "    'Updated January 2015.',\n",
       "    'Accessed December 4, 2017.',\n",
       "    '533 | Middle Age']],\n",
       "  'num_chunks': 4}]"
      ]
     },
     "execution_count": 30,
     "metadata": {},
     "output_type": "execute_result"
    }
   ],
   "source": [
    "# Loop through pages and text and split sentences into chunks\n",
    "for item in tqdm(pages_and_texts):\n",
    "    item[\"sentence_chunks\"] = split_list(input_list=item[\"sentences\"],\n",
    "                                         split_size=num_sentence_chunk_size)\n",
    "    item[\"num_chunks\"] = len(item[\"sentence_chunks\"])\n",
    "\n",
    "random.sample(pages_and_texts, k=1)"
   ]
  },
  {
   "cell_type": "code",
   "execution_count": 31,
   "metadata": {},
   "outputs": [
    {
     "data": {
      "text/html": [
       "<div>\n",
       "<style scoped>\n",
       "    .dataframe tbody tr th:only-of-type {\n",
       "        vertical-align: middle;\n",
       "    }\n",
       "\n",
       "    .dataframe tbody tr th {\n",
       "        vertical-align: top;\n",
       "    }\n",
       "\n",
       "    .dataframe thead th {\n",
       "        text-align: right;\n",
       "    }\n",
       "</style>\n",
       "<table border=\"1\" class=\"dataframe\">\n",
       "  <thead>\n",
       "    <tr style=\"text-align: right;\">\n",
       "      <th></th>\n",
       "      <th>page_number</th>\n",
       "      <th>page_char_count</th>\n",
       "      <th>page_word_count</th>\n",
       "      <th>page_sentence_count_raw</th>\n",
       "      <th>page_token_count</th>\n",
       "      <th>page_sentence_count_spacy</th>\n",
       "      <th>num_chunks</th>\n",
       "    </tr>\n",
       "  </thead>\n",
       "  <tbody>\n",
       "    <tr>\n",
       "      <th>count</th>\n",
       "      <td>667.00</td>\n",
       "      <td>667.00</td>\n",
       "      <td>667.00</td>\n",
       "      <td>667.00</td>\n",
       "      <td>667.00</td>\n",
       "      <td>667.00</td>\n",
       "      <td>667.00</td>\n",
       "    </tr>\n",
       "    <tr>\n",
       "      <th>mean</th>\n",
       "      <td>316.00</td>\n",
       "      <td>1756.98</td>\n",
       "      <td>270.41</td>\n",
       "      <td>16.31</td>\n",
       "      <td>439.25</td>\n",
       "      <td>16.21</td>\n",
       "      <td>2.11</td>\n",
       "    </tr>\n",
       "    <tr>\n",
       "      <th>std</th>\n",
       "      <td>192.69</td>\n",
       "      <td>1211.29</td>\n",
       "      <td>188.06</td>\n",
       "      <td>13.79</td>\n",
       "      <td>302.82</td>\n",
       "      <td>13.64</td>\n",
       "      <td>1.38</td>\n",
       "    </tr>\n",
       "    <tr>\n",
       "      <th>min</th>\n",
       "      <td>-17.00</td>\n",
       "      <td>0.00</td>\n",
       "      <td>1.00</td>\n",
       "      <td>1.00</td>\n",
       "      <td>0.00</td>\n",
       "      <td>0.00</td>\n",
       "      <td>0.00</td>\n",
       "    </tr>\n",
       "    <tr>\n",
       "      <th>25%</th>\n",
       "      <td>149.50</td>\n",
       "      <td>774.50</td>\n",
       "      <td>112.50</td>\n",
       "      <td>6.00</td>\n",
       "      <td>193.62</td>\n",
       "      <td>6.00</td>\n",
       "      <td>1.00</td>\n",
       "    </tr>\n",
       "    <tr>\n",
       "      <th>50%</th>\n",
       "      <td>316.00</td>\n",
       "      <td>1584.00</td>\n",
       "      <td>249.00</td>\n",
       "      <td>14.00</td>\n",
       "      <td>396.00</td>\n",
       "      <td>14.00</td>\n",
       "      <td>2.00</td>\n",
       "    </tr>\n",
       "    <tr>\n",
       "      <th>75%</th>\n",
       "      <td>482.50</td>\n",
       "      <td>2750.50</td>\n",
       "      <td>424.50</td>\n",
       "      <td>23.00</td>\n",
       "      <td>687.62</td>\n",
       "      <td>23.00</td>\n",
       "      <td>3.00</td>\n",
       "    </tr>\n",
       "    <tr>\n",
       "      <th>max</th>\n",
       "      <td>649.00</td>\n",
       "      <td>4555.00</td>\n",
       "      <td>757.00</td>\n",
       "      <td>99.00</td>\n",
       "      <td>1138.75</td>\n",
       "      <td>101.00</td>\n",
       "      <td>11.00</td>\n",
       "    </tr>\n",
       "  </tbody>\n",
       "</table>\n",
       "</div>"
      ],
      "text/plain": [
       "       page_number  page_char_count  page_word_count  page_sentence_count_raw  \\\n",
       "count       667.00           667.00           667.00                   667.00   \n",
       "mean        316.00          1756.98           270.41                    16.31   \n",
       "std         192.69          1211.29           188.06                    13.79   \n",
       "min         -17.00             0.00             1.00                     1.00   \n",
       "25%         149.50           774.50           112.50                     6.00   \n",
       "50%         316.00          1584.00           249.00                    14.00   \n",
       "75%         482.50          2750.50           424.50                    23.00   \n",
       "max         649.00          4555.00           757.00                    99.00   \n",
       "\n",
       "       page_token_count  page_sentence_count_spacy  num_chunks  \n",
       "count            667.00                     667.00      667.00  \n",
       "mean             439.25                      16.21        2.11  \n",
       "std              302.82                      13.64        1.38  \n",
       "min                0.00                       0.00        0.00  \n",
       "25%              193.62                       6.00        1.00  \n",
       "50%              396.00                      14.00        2.00  \n",
       "75%              687.62                      23.00        3.00  \n",
       "max             1138.75                     101.00       11.00  "
      ]
     },
     "execution_count": 31,
     "metadata": {},
     "output_type": "execute_result"
    }
   ],
   "source": [
    "df = pd.DataFrame(pages_and_texts)\n",
    "df.describe().round(2)"
   ]
  },
  {
   "cell_type": "markdown",
   "metadata": {},
   "source": [
    "### Splitting each chunk into it's own item\n",
    "\n",
    "- So as to embed each chunk of sentences into it's own numerical representation giving us a good level of granularity\n"
   ]
  },
  {
   "cell_type": "code",
   "execution_count": 32,
   "metadata": {},
   "outputs": [
    {
     "data": {
      "application/vnd.jupyter.widget-view+json": {
       "model_id": "e15d66389a0b4427afee6b7a795a6c35",
       "version_major": 2,
       "version_minor": 0
      },
      "text/plain": [
       "  0%|          | 0/667 [00:00<?, ?it/s]"
      ]
     },
     "metadata": {},
     "output_type": "display_data"
    },
    {
     "data": {
      "text/plain": [
       "1409"
      ]
     },
     "execution_count": 32,
     "metadata": {},
     "output_type": "execute_result"
    }
   ],
   "source": [
    "import regex as re\n",
    "\n",
    "# Split each chunk into its own item\n",
    "pages_and_chunks = []\n",
    "for item in tqdm(pages_and_texts):\n",
    "    for sentence_chunk in item[\"sentence_chunks\"]:\n",
    "        chunk_dict = {}\n",
    "        chunk_dict[\"page_number\"] = item[\"page_number\"]\n",
    "\n",
    "        # Join the sentences together into a paragraph like structure\n",
    "        joined_sentence_chunk = \"\".join(sentence_chunk).replace(\"  \", \" \").strip()\n",
    "\n",
    "        # To return the space in the beginning of sentences\n",
    "        joined_sentence_chunk = re.sub(r'\\.([A-Z])', r'. \\1', joined_sentence_chunk)\n",
    "\n",
    "        chunk_dict[\"sentence_chunk\"] = joined_sentence_chunk\n",
    "\n",
    "        # Get some stats on our chunks\n",
    "        chunk_dict[\"chunk_char_count\"] = len(joined_sentence_chunk)\n",
    "        chunk_dict[\"chunk_word_count\"] = len([word for word in joined_sentence_chunk.split(\" \")])\n",
    "        chunk_dict[\"chunk_token_count\"] = len(joined_sentence_chunk) / 4\n",
    "\n",
    "        pages_and_chunks.append(chunk_dict)\n",
    "\n",
    "len(pages_and_chunks)\n"
   ]
  },
  {
   "cell_type": "code",
   "execution_count": 33,
   "metadata": {},
   "outputs": [
    {
     "data": {
      "text/plain": [
       "[{'page_number': 20,\n",
       "  'sentence_chunk': 'they gather additional evidence from multiple sources and finally come up with a conclusion. This organized process of inquiry used in science is called the scientific method. Figure 1.2 Scientific Method Steps In 1811, French chemist Bernard Courtois was isolating saltpeter for producing gunpowder to be used by Napoleon’s army. To carry out this isolation, he burned some seaweed and in the process, observed an intense violet vapor that crystallized when he exposed it to a cold surface. He sent the violet crystals to an expert on gases, Joseph Gay-Lussac, who identified the crystal as a new element. It was named iodine, the Greek word for violet. The following scientific record is some of what took place in order to conclude that iodine is a nutrient. Observation. Eating seaweed is a cure for goiter, a gross enlargement of the thyroid gland in the neck. Hypothesis.',\n",
       "  'chunk_char_count': 877,\n",
       "  'chunk_word_count': 145,\n",
       "  'chunk_token_count': 219.25}]"
      ]
     },
     "execution_count": 33,
     "metadata": {},
     "output_type": "execute_result"
    }
   ],
   "source": [
    "random.sample(pages_and_chunks, k=1)"
   ]
  },
  {
   "cell_type": "code",
   "execution_count": 34,
   "metadata": {},
   "outputs": [
    {
     "data": {
      "text/html": [
       "<div>\n",
       "<style scoped>\n",
       "    .dataframe tbody tr th:only-of-type {\n",
       "        vertical-align: middle;\n",
       "    }\n",
       "\n",
       "    .dataframe tbody tr th {\n",
       "        vertical-align: top;\n",
       "    }\n",
       "\n",
       "    .dataframe thead th {\n",
       "        text-align: right;\n",
       "    }\n",
       "</style>\n",
       "<table border=\"1\" class=\"dataframe\">\n",
       "  <thead>\n",
       "    <tr style=\"text-align: right;\">\n",
       "      <th></th>\n",
       "      <th>page_number</th>\n",
       "      <th>chunk_char_count</th>\n",
       "      <th>chunk_word_count</th>\n",
       "      <th>chunk_token_count</th>\n",
       "    </tr>\n",
       "  </thead>\n",
       "  <tbody>\n",
       "    <tr>\n",
       "      <th>count</th>\n",
       "      <td>1409.00</td>\n",
       "      <td>1409.00</td>\n",
       "      <td>1409.00</td>\n",
       "      <td>1409.00</td>\n",
       "    </tr>\n",
       "    <tr>\n",
       "      <th>mean</th>\n",
       "      <td>339.14</td>\n",
       "      <td>830.21</td>\n",
       "      <td>127.02</td>\n",
       "      <td>207.55</td>\n",
       "    </tr>\n",
       "    <tr>\n",
       "      <th>std</th>\n",
       "      <td>194.96</td>\n",
       "      <td>535.48</td>\n",
       "      <td>86.02</td>\n",
       "      <td>133.87</td>\n",
       "    </tr>\n",
       "    <tr>\n",
       "      <th>min</th>\n",
       "      <td>-17.00</td>\n",
       "      <td>3.00</td>\n",
       "      <td>1.00</td>\n",
       "      <td>0.75</td>\n",
       "    </tr>\n",
       "    <tr>\n",
       "      <th>25%</th>\n",
       "      <td>170.00</td>\n",
       "      <td>344.00</td>\n",
       "      <td>42.00</td>\n",
       "      <td>86.00</td>\n",
       "    </tr>\n",
       "    <tr>\n",
       "      <th>50%</th>\n",
       "      <td>337.00</td>\n",
       "      <td>848.00</td>\n",
       "      <td>132.00</td>\n",
       "      <td>212.00</td>\n",
       "    </tr>\n",
       "    <tr>\n",
       "      <th>75%</th>\n",
       "      <td>514.00</td>\n",
       "      <td>1222.00</td>\n",
       "      <td>193.00</td>\n",
       "      <td>305.50</td>\n",
       "    </tr>\n",
       "    <tr>\n",
       "      <th>max</th>\n",
       "      <td>649.00</td>\n",
       "      <td>3060.00</td>\n",
       "      <td>483.00</td>\n",
       "      <td>765.00</td>\n",
       "    </tr>\n",
       "  </tbody>\n",
       "</table>\n",
       "</div>"
      ],
      "text/plain": [
       "       page_number  chunk_char_count  chunk_word_count  chunk_token_count\n",
       "count      1409.00           1409.00           1409.00            1409.00\n",
       "mean        339.14            830.21            127.02             207.55\n",
       "std         194.96            535.48             86.02             133.87\n",
       "min         -17.00              3.00              1.00               0.75\n",
       "25%         170.00            344.00             42.00              86.00\n",
       "50%         337.00            848.00            132.00             212.00\n",
       "75%         514.00           1222.00            193.00             305.50\n",
       "max         649.00           3060.00            483.00             765.00"
      ]
     },
     "execution_count": 34,
     "metadata": {},
     "output_type": "execute_result"
    }
   ],
   "source": [
    "df = pd.DataFrame(pages_and_chunks)\n",
    "df.describe().round(2)"
   ]
  },
  {
   "cell_type": "markdown",
   "metadata": {},
   "source": [
    "### Create a filter for sentence chunks that are below 30 tokens\n"
   ]
  },
  {
   "cell_type": "code",
   "execution_count": 35,
   "metadata": {},
   "outputs": [
    {
     "name": "stdout",
     "output_type": "stream",
     "text": [
      "Chunk token Count: 6.75 | Text: CHAPTER 17. FOOD SAFETY 571\n",
      "Chunk token Count: 0.75 | Text: 186\n",
      "Chunk token Count: 25.5 | Text: https://www.ncbi.nlm.nih.gov/pubmed/20047325. Accessed September 22, 2017. Central Nervous System | 60\n",
      "Chunk token Count: 3.75 | Text: Human Nutrition\n",
      "Chunk token Count: 25.25 | Text: https://www.choosemyplate.gov/fruits-nutrients-health. Accessed February 16, 2018. Introduction | 526\n"
     ]
    }
   ],
   "source": [
    "# Show random chunks with under 30 tokens in length\n",
    "min_token_length = 30\n",
    "for row in df[df[\"chunk_token_count\"] <= min_token_length].sample(5).iterrows():\n",
    "    print(f'Chunk token Count: {row[1][\"chunk_token_count\"]} | Text: {row[1][\"sentence_chunk\"]}')"
   ]
  },
  {
   "cell_type": "code",
   "execution_count": 36,
   "metadata": {},
   "outputs": [
    {
     "data": {
      "text/plain": [
       "[{'page_number': 163,\n",
       "  'sentence_chunk': 'Health Consequences and Benefits of High-Carbohydrate Diets Can America blame its obesity epidemic on the higher consumption of added sugars and refined grains?This is a hotly debated topic by both the scientific community and the general public. In this section, we will give a brief overview of the scientific evidence. ADDED SUGARS Figure 4.13 Sugar Consumption (In Teaspoons) From Various Sources The Food and Nutrition Board of the Institute of Medicine (IOM) defines added sugars as “sugars and syrups that are added to foods during processing or preparation.”The IOM goes on to state, “Major sources of added sugars include soft drinks, sports drinks, cakes, cookies, pies, fruitades, fruit punch, dairy desserts, and candy.”Processed foods, even microwaveable dinners, also contain added sugars. Added sugars do not include sugars that occur naturally in whole foods (such as an apple), but do include natural sugars such as brown sugar, corn syrup, dextrose, fructose, fruit juice concentrates, maple syrup, sucrose, and raw sugar that are then added to create other foods (such as cookies). Results from a survey of forty-two thousand Americans reports that in 2008 the average intake of added sugars is 15 percent of total calories, a drop from 18 percent of total calories in 2000.1 163',\n",
       "  'chunk_char_count': 1298,\n",
       "  'chunk_word_count': 205,\n",
       "  'chunk_token_count': 324.5}]"
      ]
     },
     "execution_count": 36,
     "metadata": {},
     "output_type": "execute_result"
    }
   ],
   "source": [
    "# Filter our DataFrame\n",
    "pages_and_chunks_over_min_token_len = df[df[\"chunk_token_count\"] > min_token_length].to_dict(orient=\"records\")\n",
    "random.sample(pages_and_chunks_over_min_token_len, k=1)"
   ]
  },
  {
   "cell_type": "markdown",
   "metadata": {},
   "source": [
    "## 2. Document Embedding\n"
   ]
  },
  {
   "cell_type": "code",
   "execution_count": null,
   "metadata": {},
   "outputs": [],
   "source": []
  }
 ],
 "metadata": {
  "kernelspec": {
   "display_name": "ml_projects",
   "language": "python",
   "name": "ml_projects"
  },
  "language_info": {
   "codemirror_mode": {
    "name": "ipython",
    "version": 3
   },
   "file_extension": ".py",
   "mimetype": "text/x-python",
   "name": "python",
   "nbconvert_exporter": "python",
   "pygments_lexer": "ipython3",
   "version": "3.10.13"
  }
 },
 "nbformat": 4,
 "nbformat_minor": 2
}
