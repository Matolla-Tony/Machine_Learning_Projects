{
 "cells": [
  {
   "cell_type": "markdown",
   "id": "c1d7a329",
   "metadata": {},
   "source": [
    "# PyTorch Fundamentals\n"
   ]
  },
  {
   "cell_type": "code",
   "execution_count": 2,
   "id": "b663a6e5",
   "metadata": {},
   "outputs": [
    {
     "name": "stderr",
     "output_type": "stream",
     "text": [
      "C:\\Users\\hp pavilion x360\\AppData\\Local\\Temp\\ipykernel_19284\\2065005710.py:2: DeprecationWarning: \n",
      "Pyarrow will become a required dependency of pandas in the next major release of pandas (pandas 3.0),\n",
      "(to allow more performant data types, such as the Arrow string type, and better interoperability with other libraries)\n",
      "but was not found to be installed on your system.\n",
      "If this would cause problems for you,\n",
      "please provide us feedback at https://github.com/pandas-dev/pandas/issues/54466\n",
      "        \n",
      "  import pandas as pd\n"
     ]
    },
    {
     "name": "stdout",
     "output_type": "stream",
     "text": [
      "2.2.0\n"
     ]
    }
   ],
   "source": [
    "import torch\n",
    "import pandas as pd\n",
    "import numpy as np\n",
    "import matplotlib.pyplot as plt\n",
    "print(torch.__version__)"
   ]
  },
  {
   "cell_type": "code",
   "execution_count": 3,
   "id": "8e4c0770",
   "metadata": {},
   "outputs": [
    {
     "name": "stdout",
     "output_type": "stream",
     "text": [
      "Mon Feb 19 14:50:45 2024       \n",
      "+-----------------------------------------------------------------------------------------+\n",
      "| NVIDIA-SMI 551.23                 Driver Version: 551.23         CUDA Version: 12.4     |\n",
      "|-----------------------------------------+------------------------+----------------------+\n",
      "| GPU  Name                     TCC/WDDM  | Bus-Id          Disp.A | Volatile Uncorr. ECC |\n",
      "| Fan  Temp   Perf          Pwr:Usage/Cap |           Memory-Usage | GPU-Util  Compute M. |\n",
      "|                                         |                        |               MIG M. |\n",
      "|=========================================+========================+======================|\n",
      "|   0  NVIDIA GeForce 940MX         WDDM  |   00000000:01:00.0 Off |                  N/A |\n",
      "| N/A    0C    P8             N/A /  200W |      60MiB /   2048MiB |     11%      Default |\n",
      "|                                         |                        |                  N/A |\n",
      "+-----------------------------------------+------------------------+----------------------+\n",
      "                                                                                         \n",
      "+-----------------------------------------------------------------------------------------+\n",
      "| Processes:                                                                              |\n",
      "|  GPU   GI   CI        PID   Type   Process name                              GPU Memory |\n",
      "|        ID   ID                                                               Usage      |\n",
      "|=========================================================================================|\n",
      "|    0   N/A  N/A     18368    C+G   ...Programs\\Microsoft VS Code\\Code.exe      N/A      |\n",
      "+-----------------------------------------------------------------------------------------+\n"
     ]
    }
   ],
   "source": [
    "!nvidia-smi"
   ]
  },
  {
   "cell_type": "markdown",
   "id": "7b410bcb",
   "metadata": {},
   "source": [
    "## Intro to Tensors\n"
   ]
  },
  {
   "cell_type": "code",
   "execution_count": 4,
   "id": "fa7d0468",
   "metadata": {},
   "outputs": [
    {
     "data": {
      "text/plain": [
       "tensor(7)"
      ]
     },
     "execution_count": 4,
     "metadata": {},
     "output_type": "execute_result"
    }
   ],
   "source": [
    "# Scalar\n",
    "scalar = torch.tensor(7)\n",
    "scalar"
   ]
  },
  {
   "cell_type": "code",
   "execution_count": 5,
   "id": "8c6801ab",
   "metadata": {},
   "outputs": [
    {
     "data": {
      "text/plain": [
       "0"
      ]
     },
     "execution_count": 5,
     "metadata": {},
     "output_type": "execute_result"
    }
   ],
   "source": [
    "# number of dimension\n",
    "# scalar no dimension\n",
    "scalar.ndim"
   ]
  },
  {
   "cell_type": "code",
   "execution_count": 6,
   "id": "db4cc729",
   "metadata": {},
   "outputs": [
    {
     "data": {
      "text/plain": [
       "7"
      ]
     },
     "execution_count": 6,
     "metadata": {},
     "output_type": "execute_result"
    }
   ],
   "source": [
    "# Get tensor back as python int\n",
    "scalar.item()"
   ]
  },
  {
   "cell_type": "code",
   "execution_count": 7,
   "id": "32a60516",
   "metadata": {},
   "outputs": [
    {
     "data": {
      "text/plain": [
       "tensor([7, 7])"
      ]
     },
     "execution_count": 7,
     "metadata": {},
     "output_type": "execute_result"
    }
   ],
   "source": [
    "# Vector\n",
    "vector = torch.tensor([7, 7])\n",
    "vector"
   ]
  },
  {
   "cell_type": "code",
   "execution_count": 8,
   "id": "596e4fc6",
   "metadata": {},
   "outputs": [
    {
     "data": {
      "text/plain": [
       "1"
      ]
     },
     "execution_count": 8,
     "metadata": {},
     "output_type": "execute_result"
    }
   ],
   "source": [
    "# number of square brackets\n",
    "vector.ndim"
   ]
  },
  {
   "cell_type": "code",
   "execution_count": 9,
   "id": "99d2903c",
   "metadata": {},
   "outputs": [
    {
     "data": {
      "text/plain": [
       "torch.Size([2])"
      ]
     },
     "execution_count": 9,
     "metadata": {},
     "output_type": "execute_result"
    }
   ],
   "source": [
    "vector.shape"
   ]
  },
  {
   "cell_type": "code",
   "execution_count": 10,
   "id": "2d1ee885",
   "metadata": {},
   "outputs": [
    {
     "data": {
      "text/plain": [
       "tensor([[ 7,  8],\n",
       "        [ 9, 10]])"
      ]
     },
     "execution_count": 10,
     "metadata": {},
     "output_type": "execute_result"
    }
   ],
   "source": [
    "# MATRIX\n",
    "MATRIX = torch.tensor([[7, 8],\n",
    "                       [9, 10]])\n",
    "MATRIX"
   ]
  },
  {
   "cell_type": "code",
   "execution_count": 11,
   "id": "bea2f0a9",
   "metadata": {},
   "outputs": [
    {
     "data": {
      "text/plain": [
       "2"
      ]
     },
     "execution_count": 11,
     "metadata": {},
     "output_type": "execute_result"
    }
   ],
   "source": [
    "MATRIX.ndim"
   ]
  },
  {
   "cell_type": "code",
   "execution_count": 12,
   "id": "e62c6957",
   "metadata": {},
   "outputs": [
    {
     "data": {
      "text/plain": [
       "tensor([7, 8])"
      ]
     },
     "execution_count": 12,
     "metadata": {},
     "output_type": "execute_result"
    }
   ],
   "source": [
    "MATRIX[0]"
   ]
  },
  {
   "cell_type": "code",
   "execution_count": 13,
   "id": "88400729",
   "metadata": {},
   "outputs": [
    {
     "data": {
      "text/plain": [
       "tensor([ 9, 10])"
      ]
     },
     "execution_count": 13,
     "metadata": {},
     "output_type": "execute_result"
    }
   ],
   "source": [
    "MATRIX[1]"
   ]
  },
  {
   "cell_type": "code",
   "execution_count": 14,
   "id": "2722249f",
   "metadata": {},
   "outputs": [
    {
     "data": {
      "text/plain": [
       "torch.Size([2, 2])"
      ]
     },
     "execution_count": 14,
     "metadata": {},
     "output_type": "execute_result"
    }
   ],
   "source": [
    "MATRIX.shape"
   ]
  },
  {
   "cell_type": "code",
   "execution_count": 15,
   "id": "96596390",
   "metadata": {},
   "outputs": [
    {
     "data": {
      "text/plain": [
       "tensor([[[1, 2, 3],\n",
       "         [2, 4, 6],\n",
       "         [3, 6, 9]]])"
      ]
     },
     "execution_count": 15,
     "metadata": {},
     "output_type": "execute_result"
    }
   ],
   "source": [
    "# TENSOR\n",
    "TENSOR = torch.tensor([[[1, 2, 3],\n",
    "                        [2, 4, 6],\n",
    "                        [3, 6, 9]]])\n",
    "TENSOR"
   ]
  },
  {
   "cell_type": "code",
   "execution_count": 16,
   "id": "fae05a22",
   "metadata": {},
   "outputs": [
    {
     "data": {
      "text/plain": [
       "3"
      ]
     },
     "execution_count": 16,
     "metadata": {},
     "output_type": "execute_result"
    }
   ],
   "source": [
    "TENSOR.ndim"
   ]
  },
  {
   "cell_type": "code",
   "execution_count": 17,
   "id": "63e7b94e",
   "metadata": {},
   "outputs": [
    {
     "data": {
      "text/plain": [
       "torch.Size([1, 3, 3])"
      ]
     },
     "execution_count": 17,
     "metadata": {},
     "output_type": "execute_result"
    }
   ],
   "source": [
    "TENSOR.shape"
   ]
  },
  {
   "cell_type": "code",
   "execution_count": 18,
   "id": "2c4c36ad",
   "metadata": {},
   "outputs": [
    {
     "data": {
      "text/plain": [
       "tensor([[1, 2, 3],\n",
       "        [2, 4, 6],\n",
       "        [3, 6, 9]])"
      ]
     },
     "execution_count": 18,
     "metadata": {},
     "output_type": "execute_result"
    }
   ],
   "source": [
    "TENSOR[0]"
   ]
  },
  {
   "cell_type": "markdown",
   "id": "278cb545",
   "metadata": {},
   "source": [
    "### Random Tensors\n"
   ]
  },
  {
   "cell_type": "code",
   "execution_count": 19,
   "id": "17841f5c",
   "metadata": {},
   "outputs": [
    {
     "data": {
      "text/plain": [
       "tensor([[[[0.2109, 0.5677, 0.7804, 0.3594, 0.3047],\n",
       "          [0.1540, 0.1922, 0.8947, 0.1746, 0.3885],\n",
       "          [0.9977, 0.2319, 0.1171, 0.5373, 0.7117],\n",
       "          [0.0618, 0.1471, 0.4563, 0.3400, 0.4047]],\n",
       "\n",
       "         [[0.7453, 0.2480, 0.9873, 0.3479, 0.6384],\n",
       "          [0.4293, 0.1410, 0.3274, 0.9817, 0.9650],\n",
       "          [0.8738, 0.2263, 0.0411, 0.9497, 0.6894],\n",
       "          [0.7988, 0.8852, 0.0800, 0.0237, 0.8883]],\n",
       "\n",
       "         [[0.0943, 0.2558, 0.3180, 0.8380, 0.9679],\n",
       "          [0.4652, 0.5684, 0.7092, 0.4028, 0.8746],\n",
       "          [0.3660, 0.5713, 0.7845, 0.0015, 0.5539],\n",
       "          [0.8397, 0.4196, 0.1993, 0.1624, 0.4785]]],\n",
       "\n",
       "\n",
       "        [[[0.1352, 0.6890, 0.2388, 0.4483, 0.4215],\n",
       "          [0.5699, 0.7728, 0.2720, 0.2157, 0.5672],\n",
       "          [0.4788, 0.3827, 0.4763, 0.3400, 0.7240],\n",
       "          [0.0369, 0.2578, 0.8637, 0.3677, 0.2881]],\n",
       "\n",
       "         [[0.9341, 0.3984, 0.0950, 0.9957, 0.9929],\n",
       "          [0.6343, 0.7997, 0.0632, 0.1188, 0.6240],\n",
       "          [0.5711, 0.0026, 0.6982, 0.0444, 0.4543],\n",
       "          [0.1651, 0.7496, 0.7843, 0.5464, 0.7777]],\n",
       "\n",
       "         [[0.9038, 0.5730, 0.4832, 0.1697, 0.7251],\n",
       "          [0.9427, 0.6056, 0.1047, 0.5854, 0.4823],\n",
       "          [0.8390, 0.0721, 0.4255, 0.0423, 0.8879],\n",
       "          [0.6648, 0.9746, 0.3765, 0.3407, 0.2472]]]])"
      ]
     },
     "execution_count": 19,
     "metadata": {},
     "output_type": "execute_result"
    }
   ],
   "source": [
    "# Create random tensor of size (3, 4)\n",
    "random_tensor = torch.rand(2, 3, 4, 5)\n",
    "random_tensor"
   ]
  },
  {
   "cell_type": "code",
   "execution_count": 20,
   "id": "ec4024bd",
   "metadata": {},
   "outputs": [
    {
     "data": {
      "text/plain": [
       "4"
      ]
     },
     "execution_count": 20,
     "metadata": {},
     "output_type": "execute_result"
    }
   ],
   "source": [
    "random_tensor.ndim"
   ]
  },
  {
   "cell_type": "code",
   "execution_count": 21,
   "id": "72409f9d",
   "metadata": {},
   "outputs": [
    {
     "data": {
      "text/plain": [
       "(torch.Size([224, 224, 3]), 3)"
      ]
     },
     "execution_count": 21,
     "metadata": {},
     "output_type": "execute_result"
    }
   ],
   "source": [
    "# random tensor with similar shape to an image tensor\n",
    "# height, width, colour channels (R, G, B)\n",
    "random_image_size_tensor = torch.rand(size=(224, 224, 3))\n",
    "random_image_size_tensor.shape, random_image_size_tensor.ndim"
   ]
  },
  {
   "cell_type": "code",
   "execution_count": 22,
   "id": "88a4a467",
   "metadata": {},
   "outputs": [
    {
     "data": {
      "text/plain": [
       "tensor([[[0.9573, 0.1889, 0.9244],\n",
       "         [0.9630, 0.4702, 0.9568],\n",
       "         [0.6061, 0.9414, 0.1384],\n",
       "         ...,\n",
       "         [0.6313, 0.7136, 0.8386],\n",
       "         [0.4707, 0.1559, 0.7220],\n",
       "         [0.6303, 0.1593, 0.5279]],\n",
       "\n",
       "        [[0.0161, 0.6568, 0.4049],\n",
       "         [0.9442, 0.3862, 0.0710],\n",
       "         [0.6118, 0.5828, 0.5343],\n",
       "         ...,\n",
       "         [0.2984, 0.9558, 0.2626],\n",
       "         [0.4731, 0.7959, 0.0328],\n",
       "         [0.9713, 0.8000, 0.2317]],\n",
       "\n",
       "        [[0.1977, 0.8948, 0.1952],\n",
       "         [0.2176, 0.6582, 0.9846],\n",
       "         [0.9245, 0.9902, 0.5685],\n",
       "         ...,\n",
       "         [0.3287, 0.6270, 0.0387],\n",
       "         [0.7548, 0.0189, 0.5728],\n",
       "         [0.6893, 0.7624, 0.6479]],\n",
       "\n",
       "        ...,\n",
       "\n",
       "        [[0.1059, 0.2033, 0.5599],\n",
       "         [0.1694, 0.8638, 0.1022],\n",
       "         [0.4990, 0.6521, 0.6182],\n",
       "         ...,\n",
       "         [0.3816, 0.8898, 0.7291],\n",
       "         [0.4903, 0.1026, 0.0935],\n",
       "         [0.9507, 0.4291, 0.0903]],\n",
       "\n",
       "        [[0.0680, 0.0313, 0.1312],\n",
       "         [0.6294, 0.5579, 0.6624],\n",
       "         [0.8876, 0.4521, 0.2088],\n",
       "         ...,\n",
       "         [0.9545, 0.4009, 0.4526],\n",
       "         [0.3260, 0.3847, 0.0416],\n",
       "         [0.0010, 0.0840, 0.7734]],\n",
       "\n",
       "        [[0.4797, 0.9745, 0.5250],\n",
       "         [0.7055, 0.7796, 0.3079],\n",
       "         [0.9909, 0.9819, 0.4585],\n",
       "         ...,\n",
       "         [0.2405, 0.4929, 0.9049],\n",
       "         [0.2247, 0.8597, 0.3237],\n",
       "         [0.8146, 0.1917, 0.5105]]])"
      ]
     },
     "execution_count": 22,
     "metadata": {},
     "output_type": "execute_result"
    }
   ],
   "source": [
    "random_image_size_tensor"
   ]
  },
  {
   "cell_type": "markdown",
   "id": "e2dd462e",
   "metadata": {},
   "source": [
    "## Zeros and ones\n"
   ]
  },
  {
   "cell_type": "code",
   "execution_count": 23,
   "id": "bb4b3436",
   "metadata": {},
   "outputs": [
    {
     "data": {
      "text/plain": [
       "tensor([[0., 0., 0., 0.],\n",
       "        [0., 0., 0., 0.],\n",
       "        [0., 0., 0., 0.]])"
      ]
     },
     "execution_count": 23,
     "metadata": {},
     "output_type": "execute_result"
    }
   ],
   "source": [
    "# All zeros\n",
    "zeros = torch.zeros(3, 4)\n",
    "zeros"
   ]
  },
  {
   "cell_type": "code",
   "execution_count": 24,
   "id": "ba93f3b4",
   "metadata": {},
   "outputs": [
    {
     "data": {
      "text/plain": [
       "tensor([[1., 1., 1., 1.],\n",
       "        [1., 1., 1., 1.],\n",
       "        [1., 1., 1., 1.]])"
      ]
     },
     "execution_count": 24,
     "metadata": {},
     "output_type": "execute_result"
    }
   ],
   "source": [
    "# All ones\n",
    "ones = torch.ones(3, 4)\n",
    "ones"
   ]
  },
  {
   "cell_type": "code",
   "execution_count": 25,
   "id": "eecff4dc",
   "metadata": {},
   "outputs": [
    {
     "data": {
      "text/plain": [
       "torch.float32"
      ]
     },
     "execution_count": 25,
     "metadata": {},
     "output_type": "execute_result"
    }
   ],
   "source": [
    "ones.dtype"
   ]
  },
  {
   "cell_type": "markdown",
   "id": "ff53fb6a",
   "metadata": {},
   "source": [
    "## Range of tensors and tensors-like\n"
   ]
  },
  {
   "cell_type": "code",
   "execution_count": 26,
   "id": "7ebc186e",
   "metadata": {},
   "outputs": [
    {
     "data": {
      "text/plain": [
       "tensor([0, 1, 2, 3, 4, 5, 6, 7, 8, 9])"
      ]
     },
     "execution_count": 26,
     "metadata": {},
     "output_type": "execute_result"
    }
   ],
   "source": [
    "torch.arange(0, 10)"
   ]
  },
  {
   "cell_type": "code",
   "execution_count": 27,
   "id": "2648451b",
   "metadata": {},
   "outputs": [],
   "source": [
    "one_to_ten = torch.arange(1, 11)"
   ]
  },
  {
   "cell_type": "code",
   "execution_count": 28,
   "id": "0e4470e0",
   "metadata": {},
   "outputs": [
    {
     "data": {
      "text/plain": [
       "tensor([  0,   5,  10,  15,  20,  25,  30,  35,  40,  45,  50,  55,  60,  65,\n",
       "         70,  75,  80,  85,  90,  95, 100])"
      ]
     },
     "execution_count": 28,
     "metadata": {},
     "output_type": "execute_result"
    }
   ],
   "source": [
    "torch.arange(start=0, end=101, step=5)"
   ]
  },
  {
   "cell_type": "code",
   "execution_count": 29,
   "id": "520d9002",
   "metadata": {},
   "outputs": [
    {
     "data": {
      "text/plain": [
       "tensor([0, 0, 0, 0, 0, 0, 0, 0, 0, 0])"
      ]
     },
     "execution_count": 29,
     "metadata": {},
     "output_type": "execute_result"
    }
   ],
   "source": [
    "# tensors-like, replicate\n",
    "# zeros class like method\n",
    "ten_zeros = torch.zeros_like(input=one_to_ten)\n",
    "ten_zeros"
   ]
  },
  {
   "cell_type": "markdown",
   "id": "744d18ea",
   "metadata": {},
   "source": [
    "## Tensors datatypes\n",
    "\n",
    "- Potential errors\n",
    "- Tensor not right datatype, right shape, right device\n"
   ]
  },
  {
   "cell_type": "code",
   "execution_count": 30,
   "id": "91b348a2",
   "metadata": {},
   "outputs": [
    {
     "data": {
      "text/plain": [
       "(tensor([3., 2., 5.]), torch.float32)"
      ]
     },
     "execution_count": 30,
     "metadata": {},
     "output_type": "execute_result"
    }
   ],
   "source": [
    "# Float 32 tensor\n",
    "# Search precision in computer science\n",
    "float_32_tensor = torch.tensor([3.0, 2, 5],\n",
    "                               dtype=None, # datatype\n",
    "                               device=None, # what device tensor us on\n",
    "                               requires_grad=False) # whether or not to track gradients\n",
    "float_32_tensor, float_32_tensor.dtype"
   ]
  },
  {
   "cell_type": "code",
   "execution_count": 31,
   "id": "a2325127",
   "metadata": {},
   "outputs": [
    {
     "data": {
      "text/plain": [
       "tensor([3., 2., 5.], dtype=torch.float16)"
      ]
     },
     "execution_count": 31,
     "metadata": {},
     "output_type": "execute_result"
    }
   ],
   "source": [
    "float_16_tensor = float_32_tensor.type(torch.float16) # or torch.half\n",
    "float_16_tensor"
   ]
  },
  {
   "cell_type": "code",
   "execution_count": 32,
   "metadata": {},
   "outputs": [
    {
     "data": {
      "text/plain": [
       "tensor([ 9.,  4., 25.])"
      ]
     },
     "execution_count": 32,
     "metadata": {},
     "output_type": "execute_result"
    }
   ],
   "source": [
    "float_16_tensor * float_32_tensor"
   ]
  },
  {
   "cell_type": "markdown",
   "id": "dbd35fae",
   "metadata": {},
   "source": [
    "### Getting info from tensors\n",
    "\n",
    "- tensor.dtype\n",
    "- tensor.shape attribute or .size() function/method\n",
    "- tensor.device\n"
   ]
  },
  {
   "cell_type": "code",
   "execution_count": 33,
   "id": "3270bee3",
   "metadata": {},
   "outputs": [
    {
     "data": {
      "text/plain": [
       "tensor([[0.4544, 0.9065, 0.8958, 0.5723],\n",
       "        [0.3222, 0.6413, 0.0328, 0.1671],\n",
       "        [0.7536, 0.9683, 0.6961, 0.5781]])"
      ]
     },
     "execution_count": 33,
     "metadata": {},
     "output_type": "execute_result"
    }
   ],
   "source": [
    "some_tensor = torch.rand(3, 4)\n",
    "some_tensor"
   ]
  },
  {
   "cell_type": "code",
   "execution_count": 34,
   "id": "af2f83fe",
   "metadata": {},
   "outputs": [
    {
     "name": "stdout",
     "output_type": "stream",
     "text": [
      "tensor([[0.4544, 0.9065, 0.8958, 0.5723],\n",
      "        [0.3222, 0.6413, 0.0328, 0.1671],\n",
      "        [0.7536, 0.9683, 0.6961, 0.5781]])\n",
      "Datatype of tensor: torch.float32\n",
      "Shape of tensor: torch.Size([3, 4])\n",
      "Device of tensor: cpu\n"
     ]
    }
   ],
   "source": [
    "print(some_tensor)\n",
    "print(f\"Datatype of tensor: {some_tensor.dtype}\")\n",
    "print(f\"Shape of tensor: {some_tensor.shape}\")\n",
    "print(f\"Device of tensor: {some_tensor.device}\")"
   ]
  },
  {
   "cell_type": "markdown",
   "id": "e9a9629a",
   "metadata": {},
   "source": [
    "## Manipulating Tensors (Tensor operations)\n"
   ]
  },
  {
   "cell_type": "code",
   "execution_count": 35,
   "id": "894ad3d2",
   "metadata": {},
   "outputs": [
    {
     "data": {
      "text/plain": [
       "tensor([2, 3, 4])"
      ]
     },
     "execution_count": 35,
     "metadata": {},
     "output_type": "execute_result"
    }
   ],
   "source": [
    "tensor = torch.tensor([2, 3, 4])\n",
    "tensor"
   ]
  },
  {
   "cell_type": "code",
   "execution_count": 36,
   "id": "d65ce0f2",
   "metadata": {},
   "outputs": [
    {
     "data": {
      "text/plain": [
       "tensor([12, 13, 14])"
      ]
     },
     "execution_count": 36,
     "metadata": {},
     "output_type": "execute_result"
    }
   ],
   "source": [
    "tensor + 10"
   ]
  },
  {
   "cell_type": "code",
   "execution_count": 37,
   "id": "393548f1",
   "metadata": {},
   "outputs": [
    {
     "data": {
      "text/plain": [
       "tensor([20, 30, 40])"
      ]
     },
     "execution_count": 37,
     "metadata": {},
     "output_type": "execute_result"
    }
   ],
   "source": [
    "tensor * 10"
   ]
  },
  {
   "cell_type": "code",
   "execution_count": 38,
   "id": "3c23a146",
   "metadata": {},
   "outputs": [
    {
     "data": {
      "text/plain": [
       "tensor([-8, -7, -6])"
      ]
     },
     "execution_count": 38,
     "metadata": {},
     "output_type": "execute_result"
    }
   ],
   "source": [
    "tensor - 10"
   ]
  },
  {
   "cell_type": "code",
   "execution_count": 39,
   "id": "15e751ef",
   "metadata": {},
   "outputs": [
    {
     "data": {
      "text/plain": [
       "tensor([0.2000, 0.3000, 0.4000])"
      ]
     },
     "execution_count": 39,
     "metadata": {},
     "output_type": "execute_result"
    }
   ],
   "source": [
    "tensor / 10"
   ]
  },
  {
   "cell_type": "code",
   "execution_count": 40,
   "id": "1a751777",
   "metadata": {},
   "outputs": [
    {
     "data": {
      "text/plain": [
       "tensor([0, 0, 0])"
      ]
     },
     "execution_count": 40,
     "metadata": {},
     "output_type": "execute_result"
    }
   ],
   "source": [
    "tensor // 10"
   ]
  },
  {
   "cell_type": "code",
   "execution_count": 41,
   "id": "0187aff0",
   "metadata": {},
   "outputs": [
    {
     "data": {
      "text/plain": [
       "tensor([20, 30, 40])"
      ]
     },
     "execution_count": 41,
     "metadata": {},
     "output_type": "execute_result"
    }
   ],
   "source": [
    "# PyTorch in-build functions\n",
    "torch.mul(tensor, 10) # or torch.mm"
   ]
  },
  {
   "cell_type": "markdown",
   "id": "a081a408",
   "metadata": {},
   "source": [
    "## Matrix multiplication\n",
    "\n",
    "- The **inner dimensions** must match e.g (3, 2) and (2, 4) gives (3, 4)\n"
   ]
  },
  {
   "cell_type": "code",
   "execution_count": 42,
   "id": "afedcafb",
   "metadata": {},
   "outputs": [
    {
     "data": {
      "text/plain": [
       "tensor([2, 3, 4])"
      ]
     },
     "execution_count": 42,
     "metadata": {},
     "output_type": "execute_result"
    }
   ],
   "source": [
    "tensor"
   ]
  },
  {
   "cell_type": "code",
   "execution_count": 43,
   "id": "74becb31",
   "metadata": {},
   "outputs": [
    {
     "name": "stdout",
     "output_type": "stream",
     "text": [
      "CPU times: total: 0 ns\n",
      "Wall time: 29 ms\n"
     ]
    },
    {
     "data": {
      "text/plain": [
       "tensor(29)"
      ]
     },
     "execution_count": 43,
     "metadata": {},
     "output_type": "execute_result"
    }
   ],
   "source": [
    "%%time\n",
    "torch.matmul(tensor, tensor)"
   ]
  },
  {
   "cell_type": "code",
   "execution_count": 44,
   "id": "12f5afed",
   "metadata": {},
   "outputs": [
    {
     "name": "stdout",
     "output_type": "stream",
     "text": [
      "tensor(29)\n",
      "CPU times: total: 0 ns\n",
      "Wall time: 4 ms\n"
     ]
    }
   ],
   "source": [
    "%%time\n",
    "value = 0\n",
    "for i in range(len(tensor)):\n",
    "    value += tensor[i] * tensor[i]\n",
    "print(value)"
   ]
  },
  {
   "cell_type": "markdown",
   "id": "dc0c86d4",
   "metadata": {},
   "source": [
    "## Transpose to manipulate tensor shape\n"
   ]
  },
  {
   "cell_type": "code",
   "execution_count": 45,
   "id": "bde0572b",
   "metadata": {},
   "outputs": [
    {
     "data": {
      "text/plain": [
       "tensor([[0.6620, 0.5091],\n",
       "        [0.9347, 0.1809],\n",
       "        [0.6342, 0.0544]])"
      ]
     },
     "execution_count": 45,
     "metadata": {},
     "output_type": "execute_result"
    }
   ],
   "source": [
    "tensor_A = torch.rand(3, 2)\n",
    "tensor_A"
   ]
  },
  {
   "cell_type": "code",
   "execution_count": 46,
   "id": "17112f61",
   "metadata": {},
   "outputs": [
    {
     "data": {
      "text/plain": [
       "tensor([[0.9033, 0.2160],\n",
       "        [0.6063, 0.8012],\n",
       "        [0.4846, 0.7495]])"
      ]
     },
     "execution_count": 46,
     "metadata": {},
     "output_type": "execute_result"
    }
   ],
   "source": [
    "tensor_B = torch.rand(3, 2)\n",
    "tensor_B"
   ]
  },
  {
   "cell_type": "code",
   "execution_count": 47,
   "id": "b69be737",
   "metadata": {},
   "outputs": [
    {
     "data": {
      "text/plain": [
       "tensor([[0.7080, 0.8092, 0.7024],\n",
       "        [0.8834, 0.7116, 0.5885],\n",
       "        [0.5847, 0.4282, 0.3482]])"
      ]
     },
     "execution_count": 47,
     "metadata": {},
     "output_type": "execute_result"
    }
   ],
   "source": [
    "torch.mm(tensor_A, tensor_B.T) # transpose"
   ]
  },
  {
   "cell_type": "markdown",
   "id": "e9ef507b",
   "metadata": {},
   "source": [
    "## Tensor aggregation (min, max, mean, sum , etc.)\n"
   ]
  },
  {
   "cell_type": "code",
   "execution_count": 48,
   "id": "950462b9",
   "metadata": {},
   "outputs": [
    {
     "data": {
      "text/plain": [
       "(tensor([ 0, 10, 20, 30, 40, 50, 60, 70, 80, 90]), torch.int64)"
      ]
     },
     "execution_count": 48,
     "metadata": {},
     "output_type": "execute_result"
    }
   ],
   "source": [
    "x = torch.arange(0, 100, 10)\n",
    "x, x.dtype"
   ]
  },
  {
   "cell_type": "code",
   "execution_count": 49,
   "id": "1b4c4275",
   "metadata": {},
   "outputs": [
    {
     "data": {
      "text/plain": [
       "(tensor(0), tensor(0))"
      ]
     },
     "execution_count": 49,
     "metadata": {},
     "output_type": "execute_result"
    }
   ],
   "source": [
    "x.min(), torch.min(x)"
   ]
  },
  {
   "cell_type": "code",
   "execution_count": 50,
   "id": "93efda87",
   "metadata": {},
   "outputs": [
    {
     "data": {
      "text/plain": [
       "(tensor(90), tensor(90))"
      ]
     },
     "execution_count": 50,
     "metadata": {},
     "output_type": "execute_result"
    }
   ],
   "source": [
    "x.max(), torch.max(x)"
   ]
  },
  {
   "cell_type": "code",
   "execution_count": 51,
   "id": "330899f1",
   "metadata": {},
   "outputs": [],
   "source": [
    "#x.mean(), torch.mean(x) returns type error"
   ]
  },
  {
   "cell_type": "code",
   "execution_count": 52,
   "id": "de58c0fe",
   "metadata": {},
   "outputs": [
    {
     "data": {
      "text/plain": [
       "(tensor(45.), tensor(45.))"
      ]
     },
     "execution_count": 52,
     "metadata": {},
     "output_type": "execute_result"
    }
   ],
   "source": [
    "x.type(torch.float32).mean(), torch.mean(x.type(torch.float32))"
   ]
  },
  {
   "cell_type": "code",
   "execution_count": 53,
   "id": "418a3830",
   "metadata": {},
   "outputs": [
    {
     "data": {
      "text/plain": [
       "tensor(0)"
      ]
     },
     "execution_count": 53,
     "metadata": {},
     "output_type": "execute_result"
    }
   ],
   "source": [
    "# positional min and max\n",
    "x.argmin() # returns index position where min value occurs"
   ]
  },
  {
   "cell_type": "code",
   "execution_count": 54,
   "id": "460cab73",
   "metadata": {},
   "outputs": [
    {
     "data": {
      "text/plain": [
       "tensor(9)"
      ]
     },
     "execution_count": 54,
     "metadata": {},
     "output_type": "execute_result"
    }
   ],
   "source": [
    "x.argmax()"
   ]
  },
  {
   "cell_type": "markdown",
   "id": "023f0e18",
   "metadata": {},
   "source": [
    "## Reshaping, view, stacking, squeezing, unsqueezing, permute\n"
   ]
  },
  {
   "cell_type": "code",
   "execution_count": 55,
   "id": "e895cfa1",
   "metadata": {},
   "outputs": [
    {
     "data": {
      "text/plain": [
       "(tensor([1., 2., 3., 4., 5., 6., 7., 8., 9.]), torch.Size([9]))"
      ]
     },
     "execution_count": 55,
     "metadata": {},
     "output_type": "execute_result"
    }
   ],
   "source": [
    "x = torch.arange(1., 10.)\n",
    "x, x.shape"
   ]
  },
  {
   "cell_type": "code",
   "execution_count": 56,
   "id": "8c0298eb",
   "metadata": {},
   "outputs": [
    {
     "data": {
      "text/plain": [
       "(tensor([[1., 2., 3., 4., 5., 6., 7., 8., 9.]]), torch.Size([1, 9]))"
      ]
     },
     "execution_count": 56,
     "metadata": {},
     "output_type": "execute_result"
    }
   ],
   "source": [
    "x_reshaped_1 = x.reshape(1, 9) # 9 * 1 same number of elements\n",
    "x_reshaped_1, x_reshaped_1.shape"
   ]
  },
  {
   "cell_type": "code",
   "execution_count": 57,
   "id": "ac76ad33",
   "metadata": {},
   "outputs": [
    {
     "data": {
      "text/plain": [
       "(tensor([[1.],\n",
       "         [2.],\n",
       "         [3.],\n",
       "         [4.],\n",
       "         [5.],\n",
       "         [6.],\n",
       "         [7.],\n",
       "         [8.],\n",
       "         [9.]]),\n",
       " torch.Size([9, 1]))"
      ]
     },
     "execution_count": 57,
     "metadata": {},
     "output_type": "execute_result"
    }
   ],
   "source": [
    "x_reshaped_2 = x.reshape(9, 1)\n",
    "x_reshaped_2, x_reshaped_2.shape"
   ]
  },
  {
   "cell_type": "code",
   "execution_count": 58,
   "id": "d858fce9",
   "metadata": {},
   "outputs": [
    {
     "data": {
      "text/plain": [
       "(tensor([[1., 2., 3., 4., 5., 6., 7., 8., 9.]]), torch.Size([1, 9]))"
      ]
     },
     "execution_count": 58,
     "metadata": {},
     "output_type": "execute_result"
    }
   ],
   "source": [
    "z = x.view(1, 9)\n",
    "z, z.shape\n",
    "# changing z will change x because a view shares the same memory as the original input"
   ]
  },
  {
   "cell_type": "code",
   "execution_count": 59,
   "id": "9072508d",
   "metadata": {},
   "outputs": [
    {
     "data": {
      "text/plain": [
       "(tensor([[5., 2., 3., 4., 5., 6., 7., 8., 9.]]),\n",
       " tensor([5., 2., 3., 4., 5., 6., 7., 8., 9.]))"
      ]
     },
     "execution_count": 59,
     "metadata": {},
     "output_type": "execute_result"
    }
   ],
   "source": [
    "z[:, 0] = 5 # changing first element to 5\n",
    "z, x"
   ]
  },
  {
   "cell_type": "code",
   "execution_count": 60,
   "id": "0cf31b1e",
   "metadata": {},
   "outputs": [
    {
     "data": {
      "text/plain": [
       "tensor([[5., 2., 3., 4., 5., 6., 7., 8., 9.],\n",
       "        [5., 2., 3., 4., 5., 6., 7., 8., 9.],\n",
       "        [5., 2., 3., 4., 5., 6., 7., 8., 9.],\n",
       "        [5., 2., 3., 4., 5., 6., 7., 8., 9.]])"
      ]
     },
     "execution_count": 60,
     "metadata": {},
     "output_type": "execute_result"
    }
   ],
   "source": [
    "x_stacked = torch.stack([x, x, x, x], dim=0)\n",
    "x_stacked"
   ]
  },
  {
   "cell_type": "code",
   "execution_count": 61,
   "id": "486ef822",
   "metadata": {},
   "outputs": [
    {
     "data": {
      "text/plain": [
       "tensor([[5., 5., 5., 5.],\n",
       "        [2., 2., 2., 2.],\n",
       "        [3., 3., 3., 3.],\n",
       "        [4., 4., 4., 4.],\n",
       "        [5., 5., 5., 5.],\n",
       "        [6., 6., 6., 6.],\n",
       "        [7., 7., 7., 7.],\n",
       "        [8., 8., 8., 8.],\n",
       "        [9., 9., 9., 9.]])"
      ]
     },
     "execution_count": 61,
     "metadata": {},
     "output_type": "execute_result"
    }
   ],
   "source": [
    "x_stacked = torch.stack([x, x, x, x], dim=1)\n",
    "x_stacked"
   ]
  },
  {
   "cell_type": "code",
   "execution_count": 62,
   "id": "6840de63",
   "metadata": {},
   "outputs": [
    {
     "data": {
      "text/plain": [
       "(tensor([[5., 2., 3., 4., 5., 6., 7., 8., 9.]]), torch.Size([1, 9]))"
      ]
     },
     "execution_count": 62,
     "metadata": {},
     "output_type": "execute_result"
    }
   ],
   "source": [
    "# squeeze removes all single dimensions\n",
    "x_reshaped_1, x_reshaped_1.shape"
   ]
  },
  {
   "cell_type": "code",
   "execution_count": 63,
   "id": "4e33e687",
   "metadata": {},
   "outputs": [
    {
     "data": {
      "text/plain": [
       "(tensor([5., 2., 3., 4., 5., 6., 7., 8., 9.]), torch.Size([9]))"
      ]
     },
     "execution_count": 63,
     "metadata": {},
     "output_type": "execute_result"
    }
   ],
   "source": [
    "x_squeezed = x_reshaped_1.squeeze()\n",
    "x_squeezed, x_squeezed.shape"
   ]
  },
  {
   "cell_type": "code",
   "execution_count": 64,
   "id": "3c6b36a1",
   "metadata": {},
   "outputs": [
    {
     "data": {
      "text/plain": [
       "(tensor([[5., 2., 3., 4., 5., 6., 7., 8., 9.]]), torch.Size([1, 9]))"
      ]
     },
     "execution_count": 64,
     "metadata": {},
     "output_type": "execute_result"
    }
   ],
   "source": [
    "# unsqueeze add a single dimension at a specific dim\n",
    "x_unsqueezed = x_squeezed.unsqueeze(dim=0)\n",
    "x_unsqueezed, x_unsqueezed.shape\n"
   ]
  },
  {
   "cell_type": "code",
   "execution_count": 65,
   "id": "82168b15",
   "metadata": {},
   "outputs": [
    {
     "data": {
      "text/plain": [
       "(tensor([[5.],\n",
       "         [2.],\n",
       "         [3.],\n",
       "         [4.],\n",
       "         [5.],\n",
       "         [6.],\n",
       "         [7.],\n",
       "         [8.],\n",
       "         [9.]]),\n",
       " torch.Size([9, 1]))"
      ]
     },
     "execution_count": 65,
     "metadata": {},
     "output_type": "execute_result"
    }
   ],
   "source": [
    "x_unsqueezed = x_squeezed.unsqueeze(dim=1)\n",
    "x_unsqueezed, x_unsqueezed.shape"
   ]
  },
  {
   "cell_type": "code",
   "execution_count": 66,
   "id": "8d7382ab",
   "metadata": {},
   "outputs": [
    {
     "data": {
      "text/plain": [
       "tensor([[[0.2454, 0.6036, 0.8721, 0.6286],\n",
       "         [0.7886, 0.8854, 0.2036, 0.7402],\n",
       "         [0.5723, 0.1692, 0.4052, 0.3305]],\n",
       "\n",
       "        [[0.1502, 0.7134, 0.6795, 0.3987],\n",
       "         [0.0513, 0.7792, 0.9049, 0.1313],\n",
       "         [0.4448, 0.2418, 0.4662, 0.6603]]])"
      ]
     },
     "execution_count": 66,
     "metadata": {},
     "output_type": "execute_result"
    }
   ],
   "source": [
    "# permute returns a view rearranges dimensions in a specified order\n",
    "x_original = torch.rand(size=(2, 3, 4))\n",
    "x_original"
   ]
  },
  {
   "cell_type": "code",
   "execution_count": 67,
   "id": "c1a2a70d",
   "metadata": {},
   "outputs": [
    {
     "data": {
      "text/plain": [
       "tensor([[[0.2454, 0.1502],\n",
       "         [0.7886, 0.0513],\n",
       "         [0.5723, 0.4448]],\n",
       "\n",
       "        [[0.6036, 0.7134],\n",
       "         [0.8854, 0.7792],\n",
       "         [0.1692, 0.2418]],\n",
       "\n",
       "        [[0.8721, 0.6795],\n",
       "         [0.2036, 0.9049],\n",
       "         [0.4052, 0.4662]],\n",
       "\n",
       "        [[0.6286, 0.3987],\n",
       "         [0.7402, 0.1313],\n",
       "         [0.3305, 0.6603]]])"
      ]
     },
     "execution_count": 67,
     "metadata": {},
     "output_type": "execute_result"
    }
   ],
   "source": [
    "x_original_permute = x_original.permute(2, 1, 0)\n",
    "x_original_permute"
   ]
  },
  {
   "cell_type": "code",
   "execution_count": 68,
   "id": "92723ca6",
   "metadata": {},
   "outputs": [
    {
     "data": {
      "text/plain": [
       "(tensor([[[2.0000, 0.6036, 0.8721, 0.6286],\n",
       "          [0.7886, 0.8854, 0.2036, 0.7402],\n",
       "          [0.5723, 0.1692, 0.4052, 0.3305]],\n",
       " \n",
       "         [[0.1502, 0.7134, 0.6795, 0.3987],\n",
       "          [0.0513, 0.7792, 0.9049, 0.1313],\n",
       "          [0.4448, 0.2418, 0.4662, 0.6603]]]),\n",
       " tensor([[[2.0000, 0.1502],\n",
       "          [0.7886, 0.0513],\n",
       "          [0.5723, 0.4448]],\n",
       " \n",
       "         [[0.6036, 0.7134],\n",
       "          [0.8854, 0.7792],\n",
       "          [0.1692, 0.2418]],\n",
       " \n",
       "         [[0.8721, 0.6795],\n",
       "          [0.2036, 0.9049],\n",
       "          [0.4052, 0.4662]],\n",
       " \n",
       "         [[0.6286, 0.3987],\n",
       "          [0.7402, 0.1313],\n",
       "          [0.3305, 0.6603]]]))"
      ]
     },
     "execution_count": 68,
     "metadata": {},
     "output_type": "execute_result"
    }
   ],
   "source": [
    "x_original[0, 0, 0] = 2\n",
    "x_original, x_original_permute"
   ]
  },
  {
   "cell_type": "markdown",
   "id": "c7ae5060",
   "metadata": {},
   "source": [
    "## Indexing selecting data from tensors\n"
   ]
  },
  {
   "cell_type": "code",
   "execution_count": 69,
   "id": "8f63a2e0",
   "metadata": {},
   "outputs": [
    {
     "data": {
      "text/plain": [
       "(tensor([[[1, 2, 3],\n",
       "          [4, 5, 6],\n",
       "          [7, 8, 9]]]),\n",
       " torch.Size([1, 3, 3]))"
      ]
     },
     "execution_count": 69,
     "metadata": {},
     "output_type": "execute_result"
    }
   ],
   "source": [
    "x = torch.arange(1, 10).reshape(1, 3, 3)\n",
    "x, x.shape"
   ]
  },
  {
   "cell_type": "code",
   "execution_count": 70,
   "id": "5de35a97",
   "metadata": {},
   "outputs": [
    {
     "data": {
      "text/plain": [
       "tensor([[1, 2, 3],\n",
       "        [4, 5, 6],\n",
       "        [7, 8, 9]])"
      ]
     },
     "execution_count": 70,
     "metadata": {},
     "output_type": "execute_result"
    }
   ],
   "source": [
    "x[0]"
   ]
  },
  {
   "cell_type": "code",
   "execution_count": 71,
   "id": "b0d7ee8d",
   "metadata": {},
   "outputs": [
    {
     "data": {
      "text/plain": [
       "tensor([1, 2, 3])"
      ]
     },
     "execution_count": 71,
     "metadata": {},
     "output_type": "execute_result"
    }
   ],
   "source": [
    "x[0][0]"
   ]
  },
  {
   "cell_type": "code",
   "execution_count": 72,
   "id": "0bf0c074",
   "metadata": {},
   "outputs": [
    {
     "data": {
      "text/plain": [
       "tensor(1)"
      ]
     },
     "execution_count": 72,
     "metadata": {},
     "output_type": "execute_result"
    }
   ],
   "source": [
    "x[0][0][0]"
   ]
  },
  {
   "cell_type": "code",
   "execution_count": 73,
   "id": "7311b585",
   "metadata": {},
   "outputs": [
    {
     "data": {
      "text/plain": [
       "tensor(5)"
      ]
     },
     "execution_count": 73,
     "metadata": {},
     "output_type": "execute_result"
    }
   ],
   "source": [
    "x[0][1][1]"
   ]
  },
  {
   "cell_type": "code",
   "execution_count": 74,
   "id": "78bad06a",
   "metadata": {},
   "outputs": [
    {
     "data": {
      "text/plain": [
       "tensor([[1, 2, 3],\n",
       "        [4, 5, 6],\n",
       "        [7, 8, 9]])"
      ]
     },
     "execution_count": 74,
     "metadata": {},
     "output_type": "execute_result"
    }
   ],
   "source": [
    "x[0]"
   ]
  },
  {
   "cell_type": "code",
   "execution_count": 75,
   "id": "381ebca5",
   "metadata": {},
   "outputs": [
    {
     "data": {
      "text/plain": [
       "tensor([[[1, 2, 3],\n",
       "         [4, 5, 6],\n",
       "         [7, 8, 9]]])"
      ]
     },
     "execution_count": 75,
     "metadata": {},
     "output_type": "execute_result"
    }
   ],
   "source": [
    "x[:] # all dimensions"
   ]
  },
  {
   "cell_type": "code",
   "execution_count": 76,
   "id": "e293c733",
   "metadata": {},
   "outputs": [
    {
     "data": {
      "text/plain": [
       "tensor([[1, 4, 7]])"
      ]
     },
     "execution_count": 76,
     "metadata": {},
     "output_type": "execute_result"
    }
   ],
   "source": [
    "x[:, :, 0]"
   ]
  },
  {
   "cell_type": "markdown",
   "id": "98cd5715",
   "metadata": {},
   "source": [
    "## PyTorch tensors and numpy\n",
    "\n",
    "- -> `torch.from_numpy(ndarray)`\n",
    "- -> `torch.Tensor.numpy()`\n"
   ]
  },
  {
   "cell_type": "code",
   "execution_count": 77,
   "id": "60c781ad",
   "metadata": {},
   "outputs": [
    {
     "data": {
      "text/plain": [
       "(array([1., 2., 3., 4., 5., 6., 7.]),\n",
       " tensor([1., 2., 3., 4., 5., 6., 7.], dtype=torch.float64))"
      ]
     },
     "execution_count": 77,
     "metadata": {},
     "output_type": "execute_result"
    }
   ],
   "source": [
    "array = np.arange(1.0, 8.0)\n",
    "tensor = torch.from_numpy(array)\n",
    "array, tensor"
   ]
  },
  {
   "cell_type": "code",
   "execution_count": 78,
   "id": "78a030ef",
   "metadata": {},
   "outputs": [
    {
     "data": {
      "text/plain": [
       "(tensor([1., 1., 1., 1., 1., 1., 1.]),\n",
       " array([1., 1., 1., 1., 1., 1., 1.], dtype=float32))"
      ]
     },
     "execution_count": 78,
     "metadata": {},
     "output_type": "execute_result"
    }
   ],
   "source": [
    "tensor = torch.ones(7)\n",
    "numpy = tensor.numpy()\n",
    "tensor, numpy"
   ]
  },
  {
   "cell_type": "markdown",
   "id": "ef157152",
   "metadata": {},
   "source": [
    "## Reproducibility\n",
    "\n",
    "take random out of random\n"
   ]
  },
  {
   "cell_type": "code",
   "execution_count": 79,
   "id": "a590f139",
   "metadata": {},
   "outputs": [
    {
     "name": "stdout",
     "output_type": "stream",
     "text": [
      "tensor([[0.4893, 0.1784, 0.0030],\n",
      "        [0.0567, 0.1342, 0.3764],\n",
      "        [0.4849, 0.1202, 0.9691]])\n",
      "tensor([[0.6865, 0.4241, 0.7848],\n",
      "        [0.3719, 0.5146, 0.0514],\n",
      "        [0.3177, 0.9194, 0.9675]])\n",
      "tensor([[False, False, False],\n",
      "        [False, False, False],\n",
      "        [False, False, False]])\n"
     ]
    }
   ],
   "source": [
    "random_a = torch.rand(3, 3)\n",
    "random_b = torch.rand(3, 3)\n",
    "print(random_a)\n",
    "print(random_b)\n",
    "print(random_a == random_b)"
   ]
  },
  {
   "cell_type": "code",
   "execution_count": 80,
   "id": "da7f57cf",
   "metadata": {},
   "outputs": [
    {
     "name": "stdout",
     "output_type": "stream",
     "text": [
      "tensor([[0.8823, 0.9150, 0.3829, 0.9593],\n",
      "        [0.3904, 0.6009, 0.2566, 0.7936],\n",
      "        [0.9408, 0.1332, 0.9346, 0.5936]])\n",
      "tensor([[0.8823, 0.9150, 0.3829, 0.9593],\n",
      "        [0.3904, 0.6009, 0.2566, 0.7936],\n",
      "        [0.9408, 0.1332, 0.9346, 0.5936]])\n",
      "tensor([[True, True, True, True],\n",
      "        [True, True, True, True],\n",
      "        [True, True, True, True]])\n"
     ]
    }
   ],
   "source": [
    "# flavouring the randomness using randomseed\n",
    "RANDOM_SEED = 42\n",
    "torch.manual_seed(RANDOM_SEED)\n",
    "random_c = torch.rand(3, 4)\n",
    "\n",
    "torch.manual_seed(RANDOM_SEED)\n",
    "random_d = torch.rand(3, 4)\n",
    "\n",
    "print(random_c)\n",
    "print(random_d)\n",
    "print(random_c == random_d)"
   ]
  },
  {
   "cell_type": "markdown",
   "id": "235815f2",
   "metadata": {},
   "source": [
    "## Running PyTorch objects and tensors in GPU\n"
   ]
  },
  {
   "cell_type": "code",
   "execution_count": 81,
   "metadata": {},
   "outputs": [
    {
     "name": "stdout",
     "output_type": "stream",
     "text": [
      "True\n",
      "NVIDIA GeForce 940MX\n"
     ]
    }
   ],
   "source": [
    "print(torch.cuda.is_available())\n",
    "print(torch.cuda.get_device_name(0))"
   ]
  },
  {
   "cell_type": "code",
   "execution_count": 82,
   "id": "05333d8c",
   "metadata": {},
   "outputs": [
    {
     "data": {
      "text/plain": [
       "('cuda', 1)"
      ]
     },
     "execution_count": 82,
     "metadata": {},
     "output_type": "execute_result"
    }
   ],
   "source": [
    "# setup device agnostic code\n",
    "device = \"cuda\" if torch.cuda.is_available() else \"cpu\"\n",
    "device, torch.cuda.device_count()"
   ]
  },
  {
   "cell_type": "code",
   "execution_count": 83,
   "id": "cb684a1f",
   "metadata": {},
   "outputs": [
    {
     "data": {
      "text/plain": [
       "(tensor([1, 2, 3]), device(type='cpu'))"
      ]
     },
     "execution_count": 83,
     "metadata": {},
     "output_type": "execute_result"
    }
   ],
   "source": [
    "tensor = torch.tensor([1, 2, 3])\n",
    "tensor, tensor.device"
   ]
  },
  {
   "cell_type": "code",
   "execution_count": 84,
   "id": "122f73b8",
   "metadata": {},
   "outputs": [
    {
     "data": {
      "text/plain": [
       "tensor([1, 2, 3], device='cuda:0')"
      ]
     },
     "execution_count": 84,
     "metadata": {},
     "output_type": "execute_result"
    }
   ],
   "source": [
    "tensor_on_gpu = tensor.to(device)\n",
    "tensor_on_gpu"
   ]
  },
  {
   "cell_type": "code",
   "execution_count": 85,
   "id": "0ae5bbbf",
   "metadata": {},
   "outputs": [
    {
     "data": {
      "text/plain": [
       "(tensor([1, 2, 3]), device(type='cpu'))"
      ]
     },
     "execution_count": 85,
     "metadata": {},
     "output_type": "execute_result"
    }
   ],
   "source": [
    "tensor_back_on_cpu = tensor_on_gpu.cpu()\n",
    "tensor_back_on_cpu, tensor_back_on_cpu.device"
   ]
  },
  {
   "cell_type": "code",
   "execution_count": null,
   "id": "f299d38a",
   "metadata": {},
   "outputs": [],
   "source": []
  }
 ],
 "metadata": {
  "kernelspec": {
   "display_name": "pytorch_tutorials",
   "language": "python",
   "name": "pytorch_tutorials"
  },
  "language_info": {
   "codemirror_mode": {
    "name": "ipython",
    "version": 3
   },
   "file_extension": ".py",
   "mimetype": "text/x-python",
   "name": "python",
   "nbconvert_exporter": "python",
   "pygments_lexer": "ipython3",
   "version": "3.12.1"
  }
 },
 "nbformat": 4,
 "nbformat_minor": 5
}
