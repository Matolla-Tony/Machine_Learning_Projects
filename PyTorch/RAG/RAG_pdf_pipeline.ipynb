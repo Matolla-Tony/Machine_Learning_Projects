{
 "cells": [
  {
   "cell_type": "markdown",
   "metadata": {},
   "source": [
    "# Create and run a local RAG pipeline from scratch\n"
   ]
  },
  {
   "cell_type": "markdown",
   "metadata": {},
   "source": [
    "## Intro\n"
   ]
  },
  {
   "cell_type": "markdown",
   "metadata": {},
   "source": [
    "### What is RAG?\n",
    "\n",
    "- Retrieval - Find relevant info given a query\n",
    "- Augmented - Take relevant info and augment our input (prompt) to an LLM with that relevant info\n",
    "- Generation - Take the first two steps and pass them to an LLM for generative outputs\n"
   ]
  },
  {
   "cell_type": "markdown",
   "metadata": {},
   "source": [
    "### Why RAG?\n",
    "\n",
    "Improve generation outputs of LLMS\n",
    "\n",
    "1. Prevents hallucinations - good looking text that is not necessarily factual\n",
    "2. Work with custom data not internet-scale data\n"
   ]
  },
  {
   "cell_type": "markdown",
   "metadata": {},
   "source": [
    "### What can RAG be used for?\n",
    "\n",
    "1. Customer support Q&A chat\n",
    "2. Email chain analysis\n",
    "3. Company internal documentation chat\n",
    "4. Textbook Q&A\n"
   ]
  },
  {
   "cell_type": "markdown",
   "metadata": {},
   "source": [
    "### Why local?\n",
    "\n",
    "1. Privacy - private documentation that you don't want to send to an API\n",
    "2. Speed - no need to send data across the internet\n",
    "3. Cost - No cost if using own hardware\n"
   ]
  },
  {
   "cell_type": "markdown",
   "metadata": {},
   "source": [
    "### To do list\n",
    "\n",
    "- Build a RAG pipeline which enables us to chat with a PDF document, specifically an open-source nutrition textbook, ~1200 pages long.\n",
    "\n",
    "- Write the code to:\n",
    "\n",
    "1. Open a PDF document (you could use almost any PDF here).\n",
    "2. Format the text of the PDF textbook ready for an embedding model (this process is known as text splitting/chunking).\n",
    "3. Embed all of the chunks of text in the textbook and turn them into numerical representation which we can store for later.\n",
    "4. Build a retrieval system that uses vector search to find relevant chunks of text based on a query.\n",
    "5. Create a prompt that incorporates the retrieved pieces of text.\n",
    "6. Generate an answer to a query based on passages from the textbook.\n"
   ]
  },
  {
   "cell_type": "markdown",
   "metadata": {},
   "source": [
    "## 1. Document/text processing and embedding creation\n"
   ]
  },
  {
   "cell_type": "markdown",
   "metadata": {},
   "source": [
    "### Import and open PDF\n"
   ]
  },
  {
   "cell_type": "code",
   "execution_count": 32,
   "metadata": {},
   "outputs": [
    {
     "name": "stdout",
     "output_type": "stream",
     "text": [
      "[INFO] File human-nutrition-text.pdf exists\n"
     ]
    }
   ],
   "source": [
    "# Import PDF\n",
    "\n",
    "import os\n",
    "import requests\n",
    "\n",
    "# Get pdf document path\n",
    "pdf_path = \"human-nutrition-text.pdf\"\n",
    "\n",
    "# Download PDF\n",
    "if not os.path.exists(pdf_path):\n",
    "    print(f\"[INFO] file doesn't exist, downloading...\")\n",
    "\n",
    "    # Enter the URL of the pdf\n",
    "    url = \"https://pressbooks.oer.hawaii.edu/humannutrition/open/download?type=pdf\"\n",
    "\n",
    "    # The local file name to save downloaded file\n",
    "    filename = pdf_path\n",
    "\n",
    "    # Send a GET request to the URL\n",
    "    response = requests.get(url)\n",
    "\n",
    "    # Check if the request was successful\n",
    "    if response.status_code == 200:\n",
    "        # Open the file and save it\n",
    "        with open(filename, \"wb\") as file:\n",
    "            file.write(response.content)\n",
    "        print(f\"[INFO] The file has been downloaded and saved as{filename}\")\n",
    "    else:\n",
    "        print(f\"[INFO] Failed to download the file. Status code : {response.status_code}\")\n",
    "\n",
    "else:\n",
    "    print(f\"[INFO] File {pdf_path} exists\")"
   ]
  },
  {
   "cell_type": "code",
   "execution_count": 33,
   "metadata": {},
   "outputs": [
    {
     "data": {
      "application/vnd.jupyter.widget-view+json": {
       "model_id": "b2694bd87b844115a0a863350805269b",
       "version_major": 2,
       "version_minor": 0
      },
      "text/plain": [
       "0it [00:00, ?it/s]"
      ]
     },
     "metadata": {},
     "output_type": "display_data"
    },
    {
     "data": {
      "text/plain": [
       "[{'page_number': -17,\n",
       "  'page_char_count': 15,\n",
       "  'page_word_count': 2,\n",
       "  'page_sentence_count_raw': 1,\n",
       "  'page_token_count': 3.75,\n",
       "  'text': 'Human Nutrition'},\n",
       " {'page_number': -16,\n",
       "  'page_char_count': 0,\n",
       "  'page_word_count': 1,\n",
       "  'page_sentence_count_raw': 1,\n",
       "  'page_token_count': 0.0,\n",
       "  'text': ''}]"
      ]
     },
     "execution_count": 33,
     "metadata": {},
     "output_type": "execute_result"
    }
   ],
   "source": [
    "# Open PDF\n",
    "import fitz\n",
    "from tqdm.auto import tqdm\n",
    "\n",
    "def text_formatter(text: str) -> str:\n",
    "    \"\"\"Performs minor formatting on text\"\"\"\n",
    "    cleaned_text = text.replace(\"\\n\", \" \").strip()\n",
    "\n",
    "    # More text formatting functions can go in here\n",
    "    return cleaned_text\n",
    "\n",
    "def open_and_read_pdf(pdf_path: str) -> list[dict]:\n",
    "    doc = fitz.open(pdf_path)\n",
    "    pages_and_texts = []\n",
    "    for page_number, page in tqdm(enumerate(doc)):\n",
    "        text= page.get_text()\n",
    "        text = text_formatter(text=text)\n",
    "        pages_and_texts.append({\"page_number\": page_number - 17,\n",
    "                                \"page_char_count\": len(text),\n",
    "                                \"page_word_count\": len(text.split(\" \")),\n",
    "                                \"page_sentence_count_raw\": len(text.split(\". \")),\n",
    "                                \"page_token_count\": len(text) / 4,\n",
    "                                \"text\": text})\n",
    "    return pages_and_texts\n",
    "\n",
    "pages_and_texts = open_and_read_pdf(pdf_path=pdf_path)\n",
    "pages_and_texts[:2]"
   ]
  },
  {
   "cell_type": "code",
   "execution_count": 34,
   "metadata": {},
   "outputs": [
    {
     "data": {
      "text/plain": [
       "[{'page_number': 6,\n",
       "  'page_char_count': 1593,\n",
       "  'page_word_count': 252,\n",
       "  'page_sentence_count_raw': 13,\n",
       "  'page_token_count': 398.25,\n",
       "  'text': 'WATER There is one other nutrient that we must have in large quantities: water. Water does not contain carbon, but is composed of two hydrogens and one oxygen per molecule of water. More than 60 percent of your total body weight is water. Without it, nothing could be transported in or out of the body, chemical reactions would not occur, organs would not be cushioned, and body temperature would fluctuate widely. On average, an adult consumes just over two liters of water per day from food and drink combined. Since water is so critical for life’s basic processes, the amount of water input and output is supremely important, a topic we will explore in detail in Chapter 4. Micronutrients Micronutrients are nutrients required by the body in lesser amounts, but are still essential for carrying out bodily functions. Micronutrients include all the essential minerals and vitamins. There are sixteen essential minerals and thirteen vitamins (See Table 1.1 “Minerals and Their Major Functions” and Table 1.2 “Vitamins and Their Major Functions” for a complete list and their major functions). In contrast to carbohydrates, lipids, and proteins, micronutrients are not sources of energy (calories), but they assist in the process as cofactors or components of enzymes (i.e., coenzymes). Enzymes are proteins that catalyze chemical reactions in the body and are involved in all aspects of body functions from producing energy, to digesting nutrients, to building macromolecules. Micronutrients play many essential roles in the body. Table 1.1 Minerals and Their Major Functions Introduction | 6'},\n",
       " {'page_number': 305,\n",
       "  'page_char_count': 3056,\n",
       "  'page_word_count': 484,\n",
       "  'page_sentence_count_raw': 11,\n",
       "  'page_token_count': 764.0,\n",
       "  'text': 'The National Weight Control Registry (NWCR) tracks over ten thousand people who have been successful in losing at least 30 pounds and maintaining this weight loss for at least one year. Their research findings are that 98 percent of participants in the registry modified their food intake and 94 percent increased their physical activity (mainly walking).3 Although there are a great variety of approaches taken by NWCR members to achieve successful weight loss, most report that their approach involved adhering to a low-calorie, low-fat diet and doing high levels of activity (about one hour of exercise per day). Moreover, most members eat breakfast every day, watch fewer than ten hours of television per week, and weigh themselves at least once per week. About half of them lost weight on their own, and the other half used some type of weight-loss program. In most scientific studies successful weight loss is accomplished only by changing the diet and by increasing physical activity. Doing one without the other limits the amount of weight lost and the length of time that weight loss is sustained. On an individual level it is quite possible to achieve successful weight loss, as over ten thousand Americans can attest. Moreover, losing as little as 10 percent of your body weight can significantly improve health and reduce disease risk.4 You do not have to be overweight or obese to reap benefits from eating a healthier diet and increasing physical activity as both provide numerous benefits beyond weight loss and maintenance. EVIDENCE-BASED DIETARY RECOMMENDATIONS The 2015 Dietary Guidelines for Americans offers specific, evidence-based recommendations for dietary changes aimed at keeping calorie intake in balance with physical activity, which is key for weight management. These recommendations include: Follow a healthy eating pattern that accounts for all foods and beverages within an appropriate calorie level that includes: • A variety of vegetables from all of the subgroups—dark green, red and orange, legumes (beans and peas), starchy, and other • Fruits, especially whole fruits • Grains, at least half of which are whole grains • Fat-free or low-fat dairy, including milk, yogurt, cheese, and/or fortified soy beverages • A variety of protein foods, including seafood, lean meats and poultry, eggs, legumes (beans and peas), and nuts, seeds, and soy products • Oils A healthy eating pattern limits: • Saturated fats and trans fats • Added sugars • Sodium Key quantitative recommendations are provided for several components of the diet that should be limited. These components are of particular public health concern in the United States, and the specified limits can help individuals achieve healthy eating patterns within calorie limits5: • Consume less than 10 percent of calories per day from added sugars • Consume less than 10 percent of calories per day from saturated fats • Consume less than 2,300 milligrams (mg) per day of sodium 305 | Dietary, Behavioral, and Physical Activity Recommendations for Weight Management'},\n",
       " {'page_number': 115,\n",
       "  'page_char_count': 699,\n",
       "  'page_word_count': 112,\n",
       "  'page_sentence_count_raw': 8,\n",
       "  'page_token_count': 174.75,\n",
       "  'text': 'Food Sources for Sodium Most sodium in the typical American diet comes from processed and prepared foods. Manufacturers add salt to foods to improve texture and flavor, and also as a preservative. The amount of salt in similar food products varies widely. Some foods, such as meat, poultry, and dairy foods, contain naturally-occurring sodium. For example, one cup of low-fat milk contains 107 milligrams of sodium. Naturally-occurring sodium accounts for less than 12 percent of dietary intake in a typical diet. For the sodium contents of various foods see Table 3.3 “Sodium Contents of Selected Foods”. Figure 3.9 Dietary Sources of Sodium Table 3.3 Sodium Contents of Selected Foods 115 | Sodium'}]"
      ]
     },
     "execution_count": 34,
     "metadata": {},
     "output_type": "execute_result"
    }
   ],
   "source": [
    "import random\n",
    "\n",
    "random.sample(pages_and_texts, k=3)"
   ]
  },
  {
   "cell_type": "code",
   "execution_count": 35,
   "metadata": {},
   "outputs": [
    {
     "data": {
      "text/html": [
       "<div>\n",
       "<style scoped>\n",
       "    .dataframe tbody tr th:only-of-type {\n",
       "        vertical-align: middle;\n",
       "    }\n",
       "\n",
       "    .dataframe tbody tr th {\n",
       "        vertical-align: top;\n",
       "    }\n",
       "\n",
       "    .dataframe thead th {\n",
       "        text-align: right;\n",
       "    }\n",
       "</style>\n",
       "<table border=\"1\" class=\"dataframe\">\n",
       "  <thead>\n",
       "    <tr style=\"text-align: right;\">\n",
       "      <th></th>\n",
       "      <th>page_number</th>\n",
       "      <th>page_char_count</th>\n",
       "      <th>page_word_count</th>\n",
       "      <th>page_sentence_count_raw</th>\n",
       "      <th>page_token_count</th>\n",
       "      <th>text</th>\n",
       "    </tr>\n",
       "  </thead>\n",
       "  <tbody>\n",
       "    <tr>\n",
       "      <th>0</th>\n",
       "      <td>-17</td>\n",
       "      <td>15</td>\n",
       "      <td>2</td>\n",
       "      <td>1</td>\n",
       "      <td>3.75</td>\n",
       "      <td>Human Nutrition</td>\n",
       "    </tr>\n",
       "    <tr>\n",
       "      <th>1</th>\n",
       "      <td>-16</td>\n",
       "      <td>0</td>\n",
       "      <td>1</td>\n",
       "      <td>1</td>\n",
       "      <td>0.00</td>\n",
       "      <td></td>\n",
       "    </tr>\n",
       "    <tr>\n",
       "      <th>2</th>\n",
       "      <td>-15</td>\n",
       "      <td>188</td>\n",
       "      <td>26</td>\n",
       "      <td>1</td>\n",
       "      <td>47.00</td>\n",
       "      <td>Human Nutrition UNIVERSITY OF HAWAI‘I AT MĀNOA...</td>\n",
       "    </tr>\n",
       "    <tr>\n",
       "      <th>3</th>\n",
       "      <td>-14</td>\n",
       "      <td>607</td>\n",
       "      <td>100</td>\n",
       "      <td>5</td>\n",
       "      <td>151.75</td>\n",
       "      <td>Human Nutrition by University of Hawai‘i at Mā...</td>\n",
       "    </tr>\n",
       "    <tr>\n",
       "      <th>4</th>\n",
       "      <td>-13</td>\n",
       "      <td>827</td>\n",
       "      <td>130</td>\n",
       "      <td>4</td>\n",
       "      <td>206.75</td>\n",
       "      <td>Contents Preface xi About the Contributors xii...</td>\n",
       "    </tr>\n",
       "  </tbody>\n",
       "</table>\n",
       "</div>"
      ],
      "text/plain": [
       "   page_number  page_char_count  page_word_count  page_sentence_count_raw  \\\n",
       "0          -17               15                2                        1   \n",
       "1          -16                0                1                        1   \n",
       "2          -15              188               26                        1   \n",
       "3          -14              607              100                        5   \n",
       "4          -13              827              130                        4   \n",
       "\n",
       "   page_token_count                                               text  \n",
       "0              3.75                                    Human Nutrition  \n",
       "1              0.00                                                     \n",
       "2             47.00  Human Nutrition UNIVERSITY OF HAWAI‘I AT MĀNOA...  \n",
       "3            151.75  Human Nutrition by University of Hawai‘i at Mā...  \n",
       "4            206.75  Contents Preface xi About the Contributors xii...  "
      ]
     },
     "execution_count": 35,
     "metadata": {},
     "output_type": "execute_result"
    }
   ],
   "source": [
    "import pandas as pd\n",
    "\n",
    "df = pd.DataFrame(pages_and_texts)\n",
    "df.head()"
   ]
  },
  {
   "cell_type": "code",
   "execution_count": 36,
   "metadata": {},
   "outputs": [
    {
     "data": {
      "text/html": [
       "<div>\n",
       "<style scoped>\n",
       "    .dataframe tbody tr th:only-of-type {\n",
       "        vertical-align: middle;\n",
       "    }\n",
       "\n",
       "    .dataframe tbody tr th {\n",
       "        vertical-align: top;\n",
       "    }\n",
       "\n",
       "    .dataframe thead th {\n",
       "        text-align: right;\n",
       "    }\n",
       "</style>\n",
       "<table border=\"1\" class=\"dataframe\">\n",
       "  <thead>\n",
       "    <tr style=\"text-align: right;\">\n",
       "      <th></th>\n",
       "      <th>page_number</th>\n",
       "      <th>page_char_count</th>\n",
       "      <th>page_word_count</th>\n",
       "      <th>page_sentence_count_raw</th>\n",
       "      <th>page_token_count</th>\n",
       "    </tr>\n",
       "  </thead>\n",
       "  <tbody>\n",
       "    <tr>\n",
       "      <th>count</th>\n",
       "      <td>667.00</td>\n",
       "      <td>667.00</td>\n",
       "      <td>667.00</td>\n",
       "      <td>667.00</td>\n",
       "      <td>667.00</td>\n",
       "    </tr>\n",
       "    <tr>\n",
       "      <th>mean</th>\n",
       "      <td>316.00</td>\n",
       "      <td>1756.98</td>\n",
       "      <td>270.41</td>\n",
       "      <td>16.31</td>\n",
       "      <td>439.25</td>\n",
       "    </tr>\n",
       "    <tr>\n",
       "      <th>std</th>\n",
       "      <td>192.69</td>\n",
       "      <td>1211.29</td>\n",
       "      <td>188.06</td>\n",
       "      <td>13.79</td>\n",
       "      <td>302.82</td>\n",
       "    </tr>\n",
       "    <tr>\n",
       "      <th>min</th>\n",
       "      <td>-17.00</td>\n",
       "      <td>0.00</td>\n",
       "      <td>1.00</td>\n",
       "      <td>1.00</td>\n",
       "      <td>0.00</td>\n",
       "    </tr>\n",
       "    <tr>\n",
       "      <th>25%</th>\n",
       "      <td>149.50</td>\n",
       "      <td>774.50</td>\n",
       "      <td>112.50</td>\n",
       "      <td>6.00</td>\n",
       "      <td>193.62</td>\n",
       "    </tr>\n",
       "    <tr>\n",
       "      <th>50%</th>\n",
       "      <td>316.00</td>\n",
       "      <td>1584.00</td>\n",
       "      <td>249.00</td>\n",
       "      <td>14.00</td>\n",
       "      <td>396.00</td>\n",
       "    </tr>\n",
       "    <tr>\n",
       "      <th>75%</th>\n",
       "      <td>482.50</td>\n",
       "      <td>2750.50</td>\n",
       "      <td>424.50</td>\n",
       "      <td>23.00</td>\n",
       "      <td>687.62</td>\n",
       "    </tr>\n",
       "    <tr>\n",
       "      <th>max</th>\n",
       "      <td>649.00</td>\n",
       "      <td>4555.00</td>\n",
       "      <td>757.00</td>\n",
       "      <td>99.00</td>\n",
       "      <td>1138.75</td>\n",
       "    </tr>\n",
       "  </tbody>\n",
       "</table>\n",
       "</div>"
      ],
      "text/plain": [
       "       page_number  page_char_count  page_word_count  page_sentence_count_raw  \\\n",
       "count       667.00           667.00           667.00                   667.00   \n",
       "mean        316.00          1756.98           270.41                    16.31   \n",
       "std         192.69          1211.29           188.06                    13.79   \n",
       "min         -17.00             0.00             1.00                     1.00   \n",
       "25%         149.50           774.50           112.50                     6.00   \n",
       "50%         316.00          1584.00           249.00                    14.00   \n",
       "75%         482.50          2750.50           424.50                    23.00   \n",
       "max         649.00          4555.00           757.00                    99.00   \n",
       "\n",
       "       page_token_count  \n",
       "count            667.00  \n",
       "mean             439.25  \n",
       "std              302.82  \n",
       "min                0.00  \n",
       "25%              193.62  \n",
       "50%              396.00  \n",
       "75%              687.62  \n",
       "max             1138.75  "
      ]
     },
     "execution_count": 36,
     "metadata": {},
     "output_type": "execute_result"
    }
   ],
   "source": [
    "df.describe().round(2)"
   ]
  },
  {
   "cell_type": "markdown",
   "metadata": {},
   "source": [
    "### Why we care about token count?\n",
    "\n",
    "1. Embedding models don't deal with infinite tokens\n",
    "\n",
    "- In this case sentence-transformers/all-mpnet-base-v2 embedding model was used\n",
    "- It was trained to embed sequences of 384 tokens into numerical space\n",
    "\n",
    "2. LLMs don't deal with infinite tokens\n"
   ]
  },
  {
   "cell_type": "markdown",
   "metadata": {},
   "source": [
    "### Further text processing (splitting pages into sentences)\n",
    "\n",
    "- split at \". \" or use NLP libraries like spaCy and nltk.\n"
   ]
  },
  {
   "cell_type": "code",
   "execution_count": 37,
   "metadata": {},
   "outputs": [
    {
     "data": {
      "text/plain": [
       "[This is a sentence., This is another sentence.]"
      ]
     },
     "execution_count": 37,
     "metadata": {},
     "output_type": "execute_result"
    }
   ],
   "source": [
    "from spacy.lang.en import English\n",
    "\n",
    "nlp = English()\n",
    "\n",
    "# Add a sentencizer pipeline\n",
    "nlp.add_pipe(\"sentencizer\")\n",
    "\n",
    "# Create document instance as an example\n",
    "doc = nlp(\"This is a sentence. This is another sentence.\")\n",
    "assert len(list(doc.sents)) == 2\n",
    "\n",
    "# Print out our sentences split\n",
    "list(doc.sents)"
   ]
  },
  {
   "cell_type": "code",
   "execution_count": 38,
   "metadata": {},
   "outputs": [
    {
     "data": {
      "text/plain": [
       "{'page_number': 483,\n",
       " 'page_char_count': 3794,\n",
       " 'page_word_count': 655,\n",
       " 'page_sentence_count_raw': 33,\n",
       " 'page_token_count': 948.5,\n",
       " 'text': 'ENERGY AND MACRONUTRIENTS Energy needs relative to size are much greater in an infant than an adult. A baby’s resting metabolic rate is two times that of an adult. The RDA to meet energy needs changes as an infant matures and puts on more weight. The IOM uses a set of equations to calculate the total energy expenditure and resulting energy needs. For example, the equation for the first three months of life is (89 x weight [kg] −100) + 175 kcal. Based on these equations, the estimated energy requirement for infants from zero to six months of age is 472 to 645 kilocalories per day for boys and 438 to 593 kilocalories per day for girls. For infants ages six to twelve months, the estimated requirement is 645 to 844 kilocalories per day for boys and 593 to 768 kilocalories per day for girls. From the age one to age two, the estimated requirement rises to 844–1,050 kilocalories per day for boys and 768–997 kilocalories per day for girls.5 How often an infant wants to eat will also change over time due to growth spurts, which typically occur at about two weeks and six weeks of age, and again at about three months and six months of age. The dietary recommendations for infants are based on the nutritional content of human breast milk. Carbohydrates make up about 45 to 65 percent of the caloric content in breast milk, which amounts to a RDA of about 130 grams. Almost all of the carbohydrate in human milk is lactose, which infants digest and tolerate well. In fact, lactose intolerance is practically nonexistent in infants. Protein makes up about 5 to 20 percent of the caloric content of breast milk, which amounts to 13 grams per day. Infants have a high need for protein to support growth and development, though excess protein (which is only a concern with bottle-feeding) can cause dehydration, diarrhea, fever, and acidosis in premature infants. About 30 to 40 percent of the caloric content in breast milk is made up of fat. A high-fat diet is necessary to encourage the development of neural pathways in the brain and other parts of the body. However, saturated fats and trans fatty acids inhibit this growth. Infants who are over the age of six months, which means they are no longer exclusively breastfed, should not consume foods that are high in these types of fats. MICRONUTRIENTS Almost all of the nutrients that infants require can be met if they consume an adequate amount of breast milk. There are a few exceptions, though. Human milk is low in vitamin D, which is needed for calcium absorption and building bone, among other things. Therefore, breastfed children often need to take a vitamin D supplement in the form of drops. Infants at the highest risk for vitamin D deficiency are those with darker skin and no exposure to sunlight. Breast milk is also low in vitamin K, which is required for blood clotting, and deficits could lead to bleeding or hemorrhagic disease. Babies are born with limited vitamin K, so supplementation may be needed initially and some states require a vitamin K injection after birth. Also, breast milk is not high in iron, but the iron in breast milk is well absorbed by infants. After four to six months, however, an infant needs an additional source of iron other than breast milk. FLUIDS Infants have a high need for fluids, 1.5 milliliters per kilocalorie consumed compared to 1.0 milliliters per kilocalorie consumed for adults. This is because children have larger body surface area per unit of body weight and a reduced capacity for perspiration. Therefore, they are at greater risk of dehydration. However, parents or other caregivers can meet an infant’s fluid needs with breast milk or formula. As solids are introduced, parents must make sure that young children continue to drink fluids throughout the day. 483 | Infancy'}"
      ]
     },
     "execution_count": 38,
     "metadata": {},
     "output_type": "execute_result"
    }
   ],
   "source": [
    "pages_and_texts[500]"
   ]
  },
  {
   "cell_type": "code",
   "execution_count": 39,
   "metadata": {},
   "outputs": [
    {
     "data": {
      "application/vnd.jupyter.widget-view+json": {
       "model_id": "2d591f330e154c8c81077b81d689067b",
       "version_major": 2,
       "version_minor": 0
      },
      "text/plain": [
       "  0%|          | 0/667 [00:00<?, ?it/s]"
      ]
     },
     "metadata": {},
     "output_type": "display_data"
    }
   ],
   "source": [
    "for item in tqdm(pages_and_texts):\n",
    "    item[\"sentences\"] = list(nlp(item[\"text\"]).sents)\n",
    "\n",
    "    # Make sure sentences are strings (default type is spaCy datatype)\n",
    "    item[\"sentences\"] = [str(sentence) for sentence in item[\"sentences\"]]\n",
    "\n",
    "    # Count the sentences\n",
    "    item[\"page_sentence_count_spacy\"] = len(item[\"sentences\"])"
   ]
  },
  {
   "cell_type": "code",
   "execution_count": 40,
   "metadata": {},
   "outputs": [
    {
     "data": {
      "text/plain": [
       "[{'page_number': 612,\n",
       "  'page_char_count': 2605,\n",
       "  'page_word_count': 413,\n",
       "  'page_sentence_count_raw': 1,\n",
       "  'page_token_count': 651.25,\n",
       "  'text': 'Diet Pros Cons DASH Diet • Recommended by the National Heart, Lung, and Blood Institute, the American Heart Association, and many physicians • Helps to lower blood pressure and cholesterol • Reduces risk of heart disease and stroke • Reduces risk of certain cancers • Reduces diabetes risk • There are very few negative factors associated with the DASH diet • Risk for hyponatremia Gluten-Free Diet • Reduces the symptoms of gluten intolerance, such as chronic diarrhea, cramping, constipation, and bloating • Promotes healing of the small intestines for people with celiac disease, preventing malnutrition • May be beneficial for other autoimmune diseases, such as Parkinson’s disease, rheumatoid arthritis, and multiple sclerosis • Risk of folate, iron, thiamin, riboflavin, niacin, and vitamin B6 deficiencies • Special gluten-free products can be hard to find and expensive • Requires constant vigilance and careful food label reading, since gluten is found in many products Low-Carb Diet • Restricts refined carbohydrates, such as white flour and white sugar • May temporarily improve blood sugar or blood cholesterol levels • Not entirely evidence-based • Results in higher fat and protein consumption • Does not meet the RDA for carbohydrates to provide glucose to the brain Macrobiotic Diet • Low in saturated fats and high in fiber • Emphasizes whole foods and de-emphasizes processed foods • Rich in phytoestrogens, which may reduce the risk of estrogen-related cancers • Not entirely evidence-based • Lacks certain vitamins and minerals; supplements are often required • Can result in a very low caloric intake • Lack of energy may result from inadequate protein Mediterranean Diet • A reduced risk of cardiovascular disease and mortality • A lower risk of cancer • De-emphasizes processed foods and emphasizes whole foods and healthy fats • Lower sodium intake, due to fewer processed foods • Emphasis on monosaturated fats leads to lower cholesterol • Highlighting fruits and vegetables raises consumption of antioxidants • Does not specify daily serving amounts • Potential for high fat and high calorie intake as nuts and oils are calorie-dense foods • Drinking one to two glasses of wine per day may not be healthy for those with certain conditions Raw Food Diet • Emphasizes whole foods • Focuses on nutritionally-rich foods • Not entirely evidence-based • Very restrictive and limits protein and healthy fat intake • Could encourage the development of foodborne illness • Extremely difficult to follow • High in fiber which can cause essential nutrient deficiencies Comparing Diets | 612',\n",
       "  'sentences': ['Diet Pros Cons DASH Diet • Recommended by the National Heart, Lung, and Blood Institute, the American Heart Association, and many physicians • Helps to lower blood pressure and cholesterol • Reduces risk of heart disease and stroke • Reduces risk of certain cancers • Reduces diabetes risk • There are very few negative factors associated with the DASH diet • Risk for hyponatremia Gluten-Free Diet • Reduces the symptoms of gluten intolerance, such as chronic diarrhea, cramping, constipation, and bloating • Promotes healing of the small intestines for people with celiac disease, preventing malnutrition • May be beneficial for other autoimmune diseases, such as Parkinson’s disease, rheumatoid arthritis, and multiple sclerosis • Risk of folate, iron, thiamin, riboflavin, niacin, and vitamin B6 deficiencies • Special gluten-free products can be hard to find and expensive • Requires constant vigilance and careful food label reading, since gluten is found in many products Low-Carb Diet • Restricts refined carbohydrates, such as white flour and white sugar • May temporarily improve blood sugar or blood cholesterol levels • Not entirely evidence-based • Results in higher fat and protein consumption • Does not meet the RDA for carbohydrates to provide glucose to the brain Macrobiotic Diet • Low in saturated fats and high in fiber • Emphasizes whole foods and de-emphasizes processed foods • Rich in phytoestrogens, which may reduce the risk of estrogen-related cancers • Not entirely evidence-based • Lacks certain vitamins and minerals; supplements are often required • Can result in a very low caloric intake • Lack of energy may result from inadequate protein Mediterranean Diet • A reduced risk of cardiovascular disease and mortality • A lower risk of cancer • De-emphasizes processed foods and emphasizes whole foods and healthy fats • Lower sodium intake, due to fewer processed foods • Emphasis on monosaturated fats leads to lower cholesterol • Highlighting fruits and vegetables raises consumption of antioxidants • Does not specify daily serving amounts • Potential for high fat and high calorie intake as nuts and oils are calorie-dense foods • Drinking one to two glasses of wine per day may not be healthy for those with certain conditions Raw Food Diet • Emphasizes whole foods • Focuses on nutritionally-rich foods • Not entirely evidence-based • Very restrictive and limits protein and healthy fat intake • Could encourage the development of foodborne illness • Extremely difficult to follow • High in fiber which can cause essential nutrient deficiencies Comparing Diets | 612'],\n",
       "  'page_sentence_count_spacy': 1}]"
      ]
     },
     "execution_count": 40,
     "metadata": {},
     "output_type": "execute_result"
    }
   ],
   "source": [
    "random.sample(pages_and_texts, k=1)\n",
    "# Has been split into sentences"
   ]
  },
  {
   "cell_type": "code",
   "execution_count": 41,
   "metadata": {},
   "outputs": [
    {
     "data": {
      "text/html": [
       "<div>\n",
       "<style scoped>\n",
       "    .dataframe tbody tr th:only-of-type {\n",
       "        vertical-align: middle;\n",
       "    }\n",
       "\n",
       "    .dataframe tbody tr th {\n",
       "        vertical-align: top;\n",
       "    }\n",
       "\n",
       "    .dataframe thead th {\n",
       "        text-align: right;\n",
       "    }\n",
       "</style>\n",
       "<table border=\"1\" class=\"dataframe\">\n",
       "  <thead>\n",
       "    <tr style=\"text-align: right;\">\n",
       "      <th></th>\n",
       "      <th>page_number</th>\n",
       "      <th>page_char_count</th>\n",
       "      <th>page_word_count</th>\n",
       "      <th>page_sentence_count_raw</th>\n",
       "      <th>page_token_count</th>\n",
       "      <th>page_sentence_count_spacy</th>\n",
       "    </tr>\n",
       "  </thead>\n",
       "  <tbody>\n",
       "    <tr>\n",
       "      <th>count</th>\n",
       "      <td>667.00</td>\n",
       "      <td>667.00</td>\n",
       "      <td>667.00</td>\n",
       "      <td>667.00</td>\n",
       "      <td>667.00</td>\n",
       "      <td>667.00</td>\n",
       "    </tr>\n",
       "    <tr>\n",
       "      <th>mean</th>\n",
       "      <td>316.00</td>\n",
       "      <td>1756.98</td>\n",
       "      <td>270.41</td>\n",
       "      <td>16.31</td>\n",
       "      <td>439.25</td>\n",
       "      <td>16.21</td>\n",
       "    </tr>\n",
       "    <tr>\n",
       "      <th>std</th>\n",
       "      <td>192.69</td>\n",
       "      <td>1211.29</td>\n",
       "      <td>188.06</td>\n",
       "      <td>13.79</td>\n",
       "      <td>302.82</td>\n",
       "      <td>13.64</td>\n",
       "    </tr>\n",
       "    <tr>\n",
       "      <th>min</th>\n",
       "      <td>-17.00</td>\n",
       "      <td>0.00</td>\n",
       "      <td>1.00</td>\n",
       "      <td>1.00</td>\n",
       "      <td>0.00</td>\n",
       "      <td>0.00</td>\n",
       "    </tr>\n",
       "    <tr>\n",
       "      <th>25%</th>\n",
       "      <td>149.50</td>\n",
       "      <td>774.50</td>\n",
       "      <td>112.50</td>\n",
       "      <td>6.00</td>\n",
       "      <td>193.62</td>\n",
       "      <td>6.00</td>\n",
       "    </tr>\n",
       "    <tr>\n",
       "      <th>50%</th>\n",
       "      <td>316.00</td>\n",
       "      <td>1584.00</td>\n",
       "      <td>249.00</td>\n",
       "      <td>14.00</td>\n",
       "      <td>396.00</td>\n",
       "      <td>14.00</td>\n",
       "    </tr>\n",
       "    <tr>\n",
       "      <th>75%</th>\n",
       "      <td>482.50</td>\n",
       "      <td>2750.50</td>\n",
       "      <td>424.50</td>\n",
       "      <td>23.00</td>\n",
       "      <td>687.62</td>\n",
       "      <td>23.00</td>\n",
       "    </tr>\n",
       "    <tr>\n",
       "      <th>max</th>\n",
       "      <td>649.00</td>\n",
       "      <td>4555.00</td>\n",
       "      <td>757.00</td>\n",
       "      <td>99.00</td>\n",
       "      <td>1138.75</td>\n",
       "      <td>101.00</td>\n",
       "    </tr>\n",
       "  </tbody>\n",
       "</table>\n",
       "</div>"
      ],
      "text/plain": [
       "       page_number  page_char_count  page_word_count  page_sentence_count_raw  \\\n",
       "count       667.00           667.00           667.00                   667.00   \n",
       "mean        316.00          1756.98           270.41                    16.31   \n",
       "std         192.69          1211.29           188.06                    13.79   \n",
       "min         -17.00             0.00             1.00                     1.00   \n",
       "25%         149.50           774.50           112.50                     6.00   \n",
       "50%         316.00          1584.00           249.00                    14.00   \n",
       "75%         482.50          2750.50           424.50                    23.00   \n",
       "max         649.00          4555.00           757.00                    99.00   \n",
       "\n",
       "       page_token_count  page_sentence_count_spacy  \n",
       "count            667.00                     667.00  \n",
       "mean             439.25                      16.21  \n",
       "std              302.82                      13.64  \n",
       "min                0.00                       0.00  \n",
       "25%              193.62                       6.00  \n",
       "50%              396.00                      14.00  \n",
       "75%              687.62                      23.00  \n",
       "max             1138.75                     101.00  "
      ]
     },
     "execution_count": 41,
     "metadata": {},
     "output_type": "execute_result"
    }
   ],
   "source": [
    "df = pd.DataFrame(pages_and_texts)\n",
    "df.describe().round(2) "
   ]
  },
  {
   "cell_type": "markdown",
   "metadata": {},
   "source": [
    "### Splitting and chunking sentences together in groups of 10\n",
    "\n",
    "- Makes text easier to filter and inspect\n",
    "- For our text chunks to fit into our embedding model context window\n"
   ]
  },
  {
   "cell_type": "code",
   "execution_count": 42,
   "metadata": {},
   "outputs": [
    {
     "data": {
      "text/plain": [
       "[[0, 1, 2, 3, 4, 5, 6, 7, 8, 9],\n",
       " [10, 11, 12, 13, 14, 15, 16, 17, 18, 19],\n",
       " [20, 21, 22, 23, 24]]"
      ]
     },
     "execution_count": 42,
     "metadata": {},
     "output_type": "execute_result"
    }
   ],
   "source": [
    "# Define split size\n",
    "num_sentence_chunk_size = 10\n",
    "\n",
    "# Create function to split list of text recursively into chunk size\n",
    "# 20 -> 10, 10\n",
    "# 25 -> 10, 10, 5\n",
    "def split_list(input_list: list,\n",
    "               split_size: int = num_sentence_chunk_size) -> list[list[str]]:\n",
    "    return [input_list[i:i+split_size] for i in range(0, len(input_list), split_size)]\n",
    "\n",
    "test_list = list(range(25))\n",
    "split_list(test_list)"
   ]
  },
  {
   "cell_type": "code",
   "execution_count": 45,
   "metadata": {},
   "outputs": [
    {
     "data": {
      "application/vnd.jupyter.widget-view+json": {
       "model_id": "3abffb4cfcd248ec974186e73b1c5f6e",
       "version_major": 2,
       "version_minor": 0
      },
      "text/plain": [
       "  0%|          | 0/667 [00:00<?, ?it/s]"
      ]
     },
     "metadata": {},
     "output_type": "display_data"
    },
    {
     "data": {
      "text/plain": [
       "[{'page_number': 341,\n",
       "  'page_char_count': 2431,\n",
       "  'page_word_count': 352,\n",
       "  'page_sentence_count_raw': 22,\n",
       "  'page_token_count': 607.75,\n",
       "  'text': 'Health Professional Fact Sheet: Thiamin. National Institutes of Health, Office of Dietary Supplements.https://ods.od.nih.gov/factsheets/Thiamin-HealthProfessional/ . Updated February 11, 2016 . Accessed October 5, 2017. Riboflavin (B2) Riboflavin is an essential component of flavoproteins, which are coenzymes involved in many metabolic pathways of carbohydrate, lipid, and protein metabolism. Flavoproteins aid in the transfer of electrons in the electron transport chain. Furthermore, the functions of other B-vitamin coenzymes, such as vitamin B6 and folate, are dependent on the actions of flavoproteins. The “flavin” portion of riboflavin gives a bright yellow color to riboflavin, an attribute that helped lead to its discovery as a vitamin. When riboflavin is taken in excess amounts (supplement form) the excess will be excreted through your kidneys and show up in your urine. Although the color may alarm you, it is harmless. There are no adverse effects of high doses of riboflavin from foods or supplements that have been reported. Riboflavin deficiency, sometimes referred to as ariboflavinosis, is often accompanied by other dietary deficiencies (most notably protein) and can be common in people that suffer from alcoholism. This deficiency will usually also occur in conjunction with deficiencies of other B vitamins because the majority of B vitamins have similar food sources. Its signs and symptoms include dry, scaly skin, cracking of the lips and at the corners of the mouth, sore throat, itchy eyes, and light sensitivity. Dietary Reference Intakes The RDAs for different age groups for riboflavin are listed in Table 9.15 “Dietary Reference Intakes for Riboflavin”. There is no UL for riboflavin because no toxicity has been reported when an excess amount has been consumed through foods or supplements. Table 9.15 Dietary Reference Intakes for Riboflavin Age Group RDA Males and Females mg/day Infants (0–6 months) 0.3 * Infants (7–12 months) 0.4* Children (1–3 years) 0.5 Children (4–8 years) 0.6 Children (9–13 years) 0.9 Adolescents (14–18 years) 1.3 (males), 1.0 (females) Adults (> 19 years) 1.3 (males), 1.1 (females) *denotes Adequate Intake Fact Sheet for Health Professionals, Riboflavin. National Institute of Health, Office of Dietary Supplements. https://ods.od.nih.gov/factsheets/Riboflavin-HealthProfessional/. Updated February 11, 2016. Accessed October 22, 2017. 341 | Water-Soluble Vitamins',\n",
       "  'sentences': ['Health Professional Fact Sheet: Thiamin.',\n",
       "   'National Institutes of Health, Office of Dietary Supplements.https://ods.od.nih.gov/factsheets/Thiamin-HealthProfessional/ .',\n",
       "   'Updated February 11, 2016 .',\n",
       "   'Accessed October 5, 2017.',\n",
       "   'Riboflavin (B2) Riboflavin is an essential component of flavoproteins, which are coenzymes involved in many metabolic pathways of carbohydrate, lipid, and protein metabolism.',\n",
       "   'Flavoproteins aid in the transfer of electrons in the electron transport chain.',\n",
       "   'Furthermore, the functions of other B-vitamin coenzymes, such as vitamin B6 and folate, are dependent on the actions of flavoproteins.',\n",
       "   'The “flavin” portion of riboflavin gives a bright yellow color to riboflavin, an attribute that helped lead to its discovery as a vitamin.',\n",
       "   'When riboflavin is taken in excess amounts (supplement form) the excess will be excreted through your kidneys and show up in your urine.',\n",
       "   'Although the color may alarm you, it is harmless.',\n",
       "   'There are no adverse effects of high doses of riboflavin from foods or supplements that have been reported.',\n",
       "   'Riboflavin deficiency, sometimes referred to as ariboflavinosis, is often accompanied by other dietary deficiencies (most notably protein) and can be common in people that suffer from alcoholism.',\n",
       "   'This deficiency will usually also occur in conjunction with deficiencies of other B vitamins because the majority of B vitamins have similar food sources.',\n",
       "   'Its signs and symptoms include dry, scaly skin, cracking of the lips and at the corners of the mouth, sore throat, itchy eyes, and light sensitivity.',\n",
       "   'Dietary Reference Intakes The RDAs for different age groups for riboflavin are listed in Table 9.15 “Dietary Reference Intakes for Riboflavin”.',\n",
       "   'There is no UL for riboflavin because no toxicity has been reported when an excess amount has been consumed through foods or supplements.',\n",
       "   'Table 9.15 Dietary Reference Intakes for Riboflavin Age Group RDA Males and Females mg/day Infants (0–6 months) 0.3 * Infants (7–12 months) 0.4* Children (1–3 years) 0.5 Children (4–8 years) 0.6 Children (9–13 years) 0.9 Adolescents (14–18 years) 1.3 (males), 1.0 (females) Adults (> 19 years) 1.3 (males), 1.1 (females) *denotes Adequate Intake Fact Sheet for Health Professionals, Riboflavin.',\n",
       "   'National Institute of Health, Office of Dietary Supplements.',\n",
       "   'https://ods.od.nih.gov/factsheets/Riboflavin-HealthProfessional/. Updated February 11, 2016.',\n",
       "   'Accessed October 22, 2017.',\n",
       "   '341 | Water-Soluble Vitamins'],\n",
       "  'page_sentence_count_spacy': 21,\n",
       "  'sentence_chunks': [['Health Professional Fact Sheet: Thiamin.',\n",
       "    'National Institutes of Health, Office of Dietary Supplements.https://ods.od.nih.gov/factsheets/Thiamin-HealthProfessional/ .',\n",
       "    'Updated February 11, 2016 .',\n",
       "    'Accessed October 5, 2017.',\n",
       "    'Riboflavin (B2) Riboflavin is an essential component of flavoproteins, which are coenzymes involved in many metabolic pathways of carbohydrate, lipid, and protein metabolism.',\n",
       "    'Flavoproteins aid in the transfer of electrons in the electron transport chain.',\n",
       "    'Furthermore, the functions of other B-vitamin coenzymes, such as vitamin B6 and folate, are dependent on the actions of flavoproteins.',\n",
       "    'The “flavin” portion of riboflavin gives a bright yellow color to riboflavin, an attribute that helped lead to its discovery as a vitamin.',\n",
       "    'When riboflavin is taken in excess amounts (supplement form) the excess will be excreted through your kidneys and show up in your urine.',\n",
       "    'Although the color may alarm you, it is harmless.'],\n",
       "   ['There are no adverse effects of high doses of riboflavin from foods or supplements that have been reported.',\n",
       "    'Riboflavin deficiency, sometimes referred to as ariboflavinosis, is often accompanied by other dietary deficiencies (most notably protein) and can be common in people that suffer from alcoholism.',\n",
       "    'This deficiency will usually also occur in conjunction with deficiencies of other B vitamins because the majority of B vitamins have similar food sources.',\n",
       "    'Its signs and symptoms include dry, scaly skin, cracking of the lips and at the corners of the mouth, sore throat, itchy eyes, and light sensitivity.',\n",
       "    'Dietary Reference Intakes The RDAs for different age groups for riboflavin are listed in Table 9.15 “Dietary Reference Intakes for Riboflavin”.',\n",
       "    'There is no UL for riboflavin because no toxicity has been reported when an excess amount has been consumed through foods or supplements.',\n",
       "    'Table 9.15 Dietary Reference Intakes for Riboflavin Age Group RDA Males and Females mg/day Infants (0–6 months) 0.3 * Infants (7–12 months) 0.4* Children (1–3 years) 0.5 Children (4–8 years) 0.6 Children (9–13 years) 0.9 Adolescents (14–18 years) 1.3 (males), 1.0 (females) Adults (> 19 years) 1.3 (males), 1.1 (females) *denotes Adequate Intake Fact Sheet for Health Professionals, Riboflavin.',\n",
       "    'National Institute of Health, Office of Dietary Supplements.',\n",
       "    'https://ods.od.nih.gov/factsheets/Riboflavin-HealthProfessional/. Updated February 11, 2016.',\n",
       "    'Accessed October 22, 2017.'],\n",
       "   ['341 | Water-Soluble Vitamins']],\n",
       "  'num_chunks': 3}]"
      ]
     },
     "execution_count": 45,
     "metadata": {},
     "output_type": "execute_result"
    }
   ],
   "source": [
    "# Loop through pages and text and split sentences into chunks\n",
    "for item in tqdm(pages_and_texts):\n",
    "    item[\"sentence_chunks\"] = split_list(input_list=item[\"sentences\"],\n",
    "                                         split_size=num_sentence_chunk_size)\n",
    "    item[\"num_chunks\"] = len(item[\"sentence_chunks\"])\n",
    "\n",
    "random.sample(pages_and_texts, k=1)"
   ]
  },
  {
   "cell_type": "code",
   "execution_count": 47,
   "metadata": {},
   "outputs": [
    {
     "data": {
      "text/html": [
       "<div>\n",
       "<style scoped>\n",
       "    .dataframe tbody tr th:only-of-type {\n",
       "        vertical-align: middle;\n",
       "    }\n",
       "\n",
       "    .dataframe tbody tr th {\n",
       "        vertical-align: top;\n",
       "    }\n",
       "\n",
       "    .dataframe thead th {\n",
       "        text-align: right;\n",
       "    }\n",
       "</style>\n",
       "<table border=\"1\" class=\"dataframe\">\n",
       "  <thead>\n",
       "    <tr style=\"text-align: right;\">\n",
       "      <th></th>\n",
       "      <th>page_number</th>\n",
       "      <th>page_char_count</th>\n",
       "      <th>page_word_count</th>\n",
       "      <th>page_sentence_count_raw</th>\n",
       "      <th>page_token_count</th>\n",
       "      <th>page_sentence_count_spacy</th>\n",
       "      <th>num_chunks</th>\n",
       "    </tr>\n",
       "  </thead>\n",
       "  <tbody>\n",
       "    <tr>\n",
       "      <th>count</th>\n",
       "      <td>667.00</td>\n",
       "      <td>667.00</td>\n",
       "      <td>667.00</td>\n",
       "      <td>667.00</td>\n",
       "      <td>667.00</td>\n",
       "      <td>667.00</td>\n",
       "      <td>667.00</td>\n",
       "    </tr>\n",
       "    <tr>\n",
       "      <th>mean</th>\n",
       "      <td>316.00</td>\n",
       "      <td>1756.98</td>\n",
       "      <td>270.41</td>\n",
       "      <td>16.31</td>\n",
       "      <td>439.25</td>\n",
       "      <td>16.21</td>\n",
       "      <td>2.11</td>\n",
       "    </tr>\n",
       "    <tr>\n",
       "      <th>std</th>\n",
       "      <td>192.69</td>\n",
       "      <td>1211.29</td>\n",
       "      <td>188.06</td>\n",
       "      <td>13.79</td>\n",
       "      <td>302.82</td>\n",
       "      <td>13.64</td>\n",
       "      <td>1.38</td>\n",
       "    </tr>\n",
       "    <tr>\n",
       "      <th>min</th>\n",
       "      <td>-17.00</td>\n",
       "      <td>0.00</td>\n",
       "      <td>1.00</td>\n",
       "      <td>1.00</td>\n",
       "      <td>0.00</td>\n",
       "      <td>0.00</td>\n",
       "      <td>0.00</td>\n",
       "    </tr>\n",
       "    <tr>\n",
       "      <th>25%</th>\n",
       "      <td>149.50</td>\n",
       "      <td>774.50</td>\n",
       "      <td>112.50</td>\n",
       "      <td>6.00</td>\n",
       "      <td>193.62</td>\n",
       "      <td>6.00</td>\n",
       "      <td>1.00</td>\n",
       "    </tr>\n",
       "    <tr>\n",
       "      <th>50%</th>\n",
       "      <td>316.00</td>\n",
       "      <td>1584.00</td>\n",
       "      <td>249.00</td>\n",
       "      <td>14.00</td>\n",
       "      <td>396.00</td>\n",
       "      <td>14.00</td>\n",
       "      <td>2.00</td>\n",
       "    </tr>\n",
       "    <tr>\n",
       "      <th>75%</th>\n",
       "      <td>482.50</td>\n",
       "      <td>2750.50</td>\n",
       "      <td>424.50</td>\n",
       "      <td>23.00</td>\n",
       "      <td>687.62</td>\n",
       "      <td>23.00</td>\n",
       "      <td>3.00</td>\n",
       "    </tr>\n",
       "    <tr>\n",
       "      <th>max</th>\n",
       "      <td>649.00</td>\n",
       "      <td>4555.00</td>\n",
       "      <td>757.00</td>\n",
       "      <td>99.00</td>\n",
       "      <td>1138.75</td>\n",
       "      <td>101.00</td>\n",
       "      <td>11.00</td>\n",
       "    </tr>\n",
       "  </tbody>\n",
       "</table>\n",
       "</div>"
      ],
      "text/plain": [
       "       page_number  page_char_count  page_word_count  page_sentence_count_raw  \\\n",
       "count       667.00           667.00           667.00                   667.00   \n",
       "mean        316.00          1756.98           270.41                    16.31   \n",
       "std         192.69          1211.29           188.06                    13.79   \n",
       "min         -17.00             0.00             1.00                     1.00   \n",
       "25%         149.50           774.50           112.50                     6.00   \n",
       "50%         316.00          1584.00           249.00                    14.00   \n",
       "75%         482.50          2750.50           424.50                    23.00   \n",
       "max         649.00          4555.00           757.00                    99.00   \n",
       "\n",
       "       page_token_count  page_sentence_count_spacy  num_chunks  \n",
       "count            667.00                     667.00      667.00  \n",
       "mean             439.25                      16.21        2.11  \n",
       "std              302.82                      13.64        1.38  \n",
       "min                0.00                       0.00        0.00  \n",
       "25%              193.62                       6.00        1.00  \n",
       "50%              396.00                      14.00        2.00  \n",
       "75%              687.62                      23.00        3.00  \n",
       "max             1138.75                     101.00       11.00  "
      ]
     },
     "execution_count": 47,
     "metadata": {},
     "output_type": "execute_result"
    }
   ],
   "source": [
    "df = pd.DataFrame(pages_and_texts)\n",
    "df.describe().round(2)"
   ]
  },
  {
   "cell_type": "markdown",
   "metadata": {},
   "source": [
    "### Splitting each chunk into it's own item\n",
    "\n",
    "- So as to embed each chunk of sentences into it's own numerical representation giving us a good level of granularity\n"
   ]
  },
  {
   "cell_type": "code",
   "execution_count": 58,
   "metadata": {},
   "outputs": [
    {
     "data": {
      "application/vnd.jupyter.widget-view+json": {
       "model_id": "51b1e565c66b42249d4be785c3645976",
       "version_major": 2,
       "version_minor": 0
      },
      "text/plain": [
       "  0%|          | 0/667 [00:00<?, ?it/s]"
      ]
     },
     "metadata": {},
     "output_type": "display_data"
    },
    {
     "data": {
      "text/plain": [
       "1409"
      ]
     },
     "execution_count": 58,
     "metadata": {},
     "output_type": "execute_result"
    }
   ],
   "source": [
    "import regex as re\n",
    "\n",
    "# Split each chunk into its own item\n",
    "pages_and_chunks = []\n",
    "for item in tqdm(pages_and_texts):\n",
    "    for sentence_chunk in item[\"sentence_chunks\"]:\n",
    "        chunk_dict = {}\n",
    "        chunk_dict[\"page_number\"] = item[\"page_number\"]\n",
    "\n",
    "        # Join the sentences together into a paragraph like structure\n",
    "        joined_sentence_chunk = \"\".join(sentence_chunk).replace(\"  \", \" \").strip()\n",
    "\n",
    "        # To return the space in the beginning of sentences\n",
    "        joined_sentence_chunk = re.sub(r'\\.([A-Z])', r'. \\1', joined_sentence_chunk)\n",
    "\n",
    "        chunk_dict[\"sentence_chunk\"] = joined_sentence_chunk\n",
    "\n",
    "        # Get some stats on our chunks\n",
    "        chunk_dict[\"chunk_char_count\"] = len(joined_sentence_chunk)\n",
    "        chunk_dict[\"chunk_word_count\"] = len([word for word in joined_sentence_chunk.split(\" \")])\n",
    "        chunk_dict[\"chunk_token_count\"] = len(joined_sentence_chunk) / 4\n",
    "\n",
    "        pages_and_chunks.append(chunk_dict)\n",
    "\n",
    "len(pages_and_chunks)\n"
   ]
  },
  {
   "cell_type": "code",
   "execution_count": 59,
   "metadata": {},
   "outputs": [
    {
     "data": {
      "text/plain": [
       "[{'page_number': 114,\n",
       "  'sentence_chunk': 'Updated February 11, 2004. Accessed September 22, 2017. Sodium | 114',\n",
       "  'chunk_char_count': 68,\n",
       "  'chunk_word_count': 11,\n",
       "  'chunk_token_count': 17.0}]"
      ]
     },
     "execution_count": 59,
     "metadata": {},
     "output_type": "execute_result"
    }
   ],
   "source": [
    "random.sample(pages_and_chunks, k=1)"
   ]
  },
  {
   "cell_type": "code",
   "execution_count": null,
   "metadata": {},
   "outputs": [],
   "source": []
  },
  {
   "cell_type": "code",
   "execution_count": null,
   "metadata": {},
   "outputs": [],
   "source": []
  },
  {
   "cell_type": "code",
   "execution_count": null,
   "metadata": {},
   "outputs": [],
   "source": []
  },
  {
   "cell_type": "code",
   "execution_count": null,
   "metadata": {},
   "outputs": [],
   "source": []
  }
 ],
 "metadata": {
  "kernelspec": {
   "display_name": "ml_projects",
   "language": "python",
   "name": "ml_projects"
  },
  "language_info": {
   "codemirror_mode": {
    "name": "ipython",
    "version": 3
   },
   "file_extension": ".py",
   "mimetype": "text/x-python",
   "name": "python",
   "nbconvert_exporter": "python",
   "pygments_lexer": "ipython3",
   "version": "3.10.13"
  }
 },
 "nbformat": 4,
 "nbformat_minor": 2
}
